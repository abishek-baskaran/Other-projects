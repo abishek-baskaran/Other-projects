{
 "cells": [
  {
   "cell_type": "markdown",
   "id": "ff59516a",
   "metadata": {
    "toc": true
   },
   "source": [
    "<h1>Contents<span class=\"tocSkip\"></span></h1>\n",
    "<div class=\"toc\"><ul class=\"toc-item\"><li><span><a href=\"#Earthquake-damage-prediction---Nepal-2015\" data-toc-modified-id=\"Earthquake-damage-prediction---Nepal-2015-1\"><span class=\"toc-item-num\">1&nbsp;&nbsp;</span>Earthquake damage prediction - Nepal 2015</a></span><ul class=\"toc-item\"><li><span><a href=\"#EDA\" data-toc-modified-id=\"EDA-1.1\"><span class=\"toc-item-num\">1.1&nbsp;&nbsp;</span>EDA</a></span></li></ul></li><li><span><a href=\"#Models\" data-toc-modified-id=\"Models-2\"><span class=\"toc-item-num\">2&nbsp;&nbsp;</span>Models</a></span><ul class=\"toc-item\"><li><span><a href=\"#Baseline---Naive-model,-that-estimates-the-majority-class\" data-toc-modified-id=\"Baseline---Naive-model,-that-estimates-the-majority-class-2.1\"><span class=\"toc-item-num\">2.1&nbsp;&nbsp;</span>Baseline - Naive model, that estimates the majority class</a></span></li><li><span><a href=\"#Logistic-regression\" data-toc-modified-id=\"Logistic-regression-2.2\"><span class=\"toc-item-num\">2.2&nbsp;&nbsp;</span>Logistic regression</a></span><ul class=\"toc-item\"><li><ul class=\"toc-item\"><li><span><a href=\"#Metrics\" data-toc-modified-id=\"Metrics-2.2.0.1\"><span class=\"toc-item-num\">2.2.0.1&nbsp;&nbsp;</span>Metrics</a></span></li></ul></li></ul></li><li><span><a href=\"#Random-Forest-Classifier\" data-toc-modified-id=\"Random-Forest-Classifier-2.3\"><span class=\"toc-item-num\">2.3&nbsp;&nbsp;</span>Random Forest Classifier</a></span><ul class=\"toc-item\"><li><span><a href=\"#Save-the-trained-model-with-pickle\" data-toc-modified-id=\"Save-the-trained-model-with-pickle-2.3.1\"><span class=\"toc-item-num\">2.3.1&nbsp;&nbsp;</span>Save the trained model with pickle</a></span></li><li><span><a href=\"#Submission\" data-toc-modified-id=\"Submission-2.3.2\"><span class=\"toc-item-num\">2.3.2&nbsp;&nbsp;</span>Submission</a></span></li></ul></li><li><span><a href=\"#Submission-score\" data-toc-modified-id=\"Submission-score-2.4\"><span class=\"toc-item-num\">2.4&nbsp;&nbsp;</span>Submission score</a></span></li><li><span><a href=\"#Model---RF-analysis\" data-toc-modified-id=\"Model---RF-analysis-2.5\"><span class=\"toc-item-num\">2.5&nbsp;&nbsp;</span>Model - RF analysis</a></span><ul class=\"toc-item\"><li><span><a href=\"#Gradient-boosting\" data-toc-modified-id=\"Gradient-boosting-2.5.1\"><span class=\"toc-item-num\">2.5.1&nbsp;&nbsp;</span>Gradient boosting</a></span></li></ul></li></ul></li></ul></div>"
   ]
  },
  {
   "cell_type": "markdown",
   "id": "aaeeef78",
   "metadata": {},
   "source": [
    "## Earthquake damage prediction - Nepal 2015"
   ]
  },
  {
   "cell_type": "markdown",
   "id": "31664416",
   "metadata": {},
   "source": [
    "This work uses various features of buildings recorded from 2015 Earthquake at Gorkha, Nepal to predict the intensity of damage a building would sustain, given the features. The damage are classified into 3 grades (1, 2, 3), denoting low damage, medium damage and high damage. \n",
    "\n",
    "The metrics used to evaluate is \"f1_micro\""
   ]
  },
  {
   "cell_type": "markdown",
   "id": "eeb1d442",
   "metadata": {},
   "source": [
    "### EDA"
   ]
  },
  {
   "cell_type": "code",
   "execution_count": 1,
   "id": "c84dcaa2",
   "metadata": {},
   "outputs": [],
   "source": [
    "import pandas as pd\n",
    "import seaborn as sns\n",
    "import numpy as np\n",
    "import matplotlib.pyplot as plt\n",
    "from matplotlib.colors import ListedColormap\n",
    "from dython.nominal import associations"
   ]
  },
  {
   "cell_type": "code",
   "execution_count": 2,
   "id": "f2ae2a14",
   "metadata": {},
   "outputs": [],
   "source": [
    "X = pd.read_csv(\"train_values.csv\")\n",
    "labels = pd.read_csv(\"train_labels.csv\")"
   ]
  },
  {
   "cell_type": "code",
   "execution_count": 3,
   "id": "af5ca53a",
   "metadata": {},
   "outputs": [
    {
     "name": "stdout",
     "output_type": "stream",
     "text": [
      "(260601, 39)\n"
     ]
    },
    {
     "data": {
      "text/html": [
       "<div>\n",
       "<style scoped>\n",
       "    .dataframe tbody tr th:only-of-type {\n",
       "        vertical-align: middle;\n",
       "    }\n",
       "\n",
       "    .dataframe tbody tr th {\n",
       "        vertical-align: top;\n",
       "    }\n",
       "\n",
       "    .dataframe thead th {\n",
       "        text-align: right;\n",
       "    }\n",
       "</style>\n",
       "<table border=\"1\" class=\"dataframe\">\n",
       "  <thead>\n",
       "    <tr style=\"text-align: right;\">\n",
       "      <th></th>\n",
       "      <th>building_id</th>\n",
       "      <th>geo_level_1_id</th>\n",
       "      <th>geo_level_2_id</th>\n",
       "      <th>geo_level_3_id</th>\n",
       "      <th>count_floors_pre_eq</th>\n",
       "      <th>age</th>\n",
       "      <th>area_percentage</th>\n",
       "      <th>height_percentage</th>\n",
       "      <th>land_surface_condition</th>\n",
       "      <th>foundation_type</th>\n",
       "      <th>...</th>\n",
       "      <th>has_secondary_use_agriculture</th>\n",
       "      <th>has_secondary_use_hotel</th>\n",
       "      <th>has_secondary_use_rental</th>\n",
       "      <th>has_secondary_use_institution</th>\n",
       "      <th>has_secondary_use_school</th>\n",
       "      <th>has_secondary_use_industry</th>\n",
       "      <th>has_secondary_use_health_post</th>\n",
       "      <th>has_secondary_use_gov_office</th>\n",
       "      <th>has_secondary_use_use_police</th>\n",
       "      <th>has_secondary_use_other</th>\n",
       "    </tr>\n",
       "  </thead>\n",
       "  <tbody>\n",
       "    <tr>\n",
       "      <th>0</th>\n",
       "      <td>802906</td>\n",
       "      <td>6</td>\n",
       "      <td>487</td>\n",
       "      <td>12198</td>\n",
       "      <td>2</td>\n",
       "      <td>30</td>\n",
       "      <td>6</td>\n",
       "      <td>5</td>\n",
       "      <td>t</td>\n",
       "      <td>r</td>\n",
       "      <td>...</td>\n",
       "      <td>0</td>\n",
       "      <td>0</td>\n",
       "      <td>0</td>\n",
       "      <td>0</td>\n",
       "      <td>0</td>\n",
       "      <td>0</td>\n",
       "      <td>0</td>\n",
       "      <td>0</td>\n",
       "      <td>0</td>\n",
       "      <td>0</td>\n",
       "    </tr>\n",
       "    <tr>\n",
       "      <th>1</th>\n",
       "      <td>28830</td>\n",
       "      <td>8</td>\n",
       "      <td>900</td>\n",
       "      <td>2812</td>\n",
       "      <td>2</td>\n",
       "      <td>10</td>\n",
       "      <td>8</td>\n",
       "      <td>7</td>\n",
       "      <td>o</td>\n",
       "      <td>r</td>\n",
       "      <td>...</td>\n",
       "      <td>0</td>\n",
       "      <td>0</td>\n",
       "      <td>0</td>\n",
       "      <td>0</td>\n",
       "      <td>0</td>\n",
       "      <td>0</td>\n",
       "      <td>0</td>\n",
       "      <td>0</td>\n",
       "      <td>0</td>\n",
       "      <td>0</td>\n",
       "    </tr>\n",
       "    <tr>\n",
       "      <th>2</th>\n",
       "      <td>94947</td>\n",
       "      <td>21</td>\n",
       "      <td>363</td>\n",
       "      <td>8973</td>\n",
       "      <td>2</td>\n",
       "      <td>10</td>\n",
       "      <td>5</td>\n",
       "      <td>5</td>\n",
       "      <td>t</td>\n",
       "      <td>r</td>\n",
       "      <td>...</td>\n",
       "      <td>0</td>\n",
       "      <td>0</td>\n",
       "      <td>0</td>\n",
       "      <td>0</td>\n",
       "      <td>0</td>\n",
       "      <td>0</td>\n",
       "      <td>0</td>\n",
       "      <td>0</td>\n",
       "      <td>0</td>\n",
       "      <td>0</td>\n",
       "    </tr>\n",
       "  </tbody>\n",
       "</table>\n",
       "<p>3 rows × 39 columns</p>\n",
       "</div>"
      ],
      "text/plain": [
       "   building_id  geo_level_1_id  geo_level_2_id  geo_level_3_id  \\\n",
       "0       802906               6             487           12198   \n",
       "1        28830               8             900            2812   \n",
       "2        94947              21             363            8973   \n",
       "\n",
       "   count_floors_pre_eq  age  area_percentage  height_percentage  \\\n",
       "0                    2   30                6                  5   \n",
       "1                    2   10                8                  7   \n",
       "2                    2   10                5                  5   \n",
       "\n",
       "  land_surface_condition foundation_type  ... has_secondary_use_agriculture  \\\n",
       "0                      t               r  ...                             0   \n",
       "1                      o               r  ...                             0   \n",
       "2                      t               r  ...                             0   \n",
       "\n",
       "  has_secondary_use_hotel has_secondary_use_rental  \\\n",
       "0                       0                        0   \n",
       "1                       0                        0   \n",
       "2                       0                        0   \n",
       "\n",
       "  has_secondary_use_institution has_secondary_use_school  \\\n",
       "0                             0                        0   \n",
       "1                             0                        0   \n",
       "2                             0                        0   \n",
       "\n",
       "   has_secondary_use_industry  has_secondary_use_health_post  \\\n",
       "0                           0                              0   \n",
       "1                           0                              0   \n",
       "2                           0                              0   \n",
       "\n",
       "   has_secondary_use_gov_office  has_secondary_use_use_police  \\\n",
       "0                             0                             0   \n",
       "1                             0                             0   \n",
       "2                             0                             0   \n",
       "\n",
       "   has_secondary_use_other  \n",
       "0                        0  \n",
       "1                        0  \n",
       "2                        0  \n",
       "\n",
       "[3 rows x 39 columns]"
      ]
     },
     "execution_count": 3,
     "metadata": {},
     "output_type": "execute_result"
    }
   ],
   "source": [
    "print(X.shape)\n",
    "X.head(3)"
   ]
  },
  {
   "cell_type": "code",
   "execution_count": 4,
   "id": "7cd1a16b",
   "metadata": {},
   "outputs": [
    {
     "name": "stdout",
     "output_type": "stream",
     "text": [
      "(260601, 2)\n"
     ]
    },
    {
     "data": {
      "text/html": [
       "<div>\n",
       "<style scoped>\n",
       "    .dataframe tbody tr th:only-of-type {\n",
       "        vertical-align: middle;\n",
       "    }\n",
       "\n",
       "    .dataframe tbody tr th {\n",
       "        vertical-align: top;\n",
       "    }\n",
       "\n",
       "    .dataframe thead th {\n",
       "        text-align: right;\n",
       "    }\n",
       "</style>\n",
       "<table border=\"1\" class=\"dataframe\">\n",
       "  <thead>\n",
       "    <tr style=\"text-align: right;\">\n",
       "      <th></th>\n",
       "      <th>building_id</th>\n",
       "      <th>damage_grade</th>\n",
       "    </tr>\n",
       "  </thead>\n",
       "  <tbody>\n",
       "    <tr>\n",
       "      <th>0</th>\n",
       "      <td>802906</td>\n",
       "      <td>3</td>\n",
       "    </tr>\n",
       "    <tr>\n",
       "      <th>1</th>\n",
       "      <td>28830</td>\n",
       "      <td>2</td>\n",
       "    </tr>\n",
       "    <tr>\n",
       "      <th>2</th>\n",
       "      <td>94947</td>\n",
       "      <td>3</td>\n",
       "    </tr>\n",
       "  </tbody>\n",
       "</table>\n",
       "</div>"
      ],
      "text/plain": [
       "   building_id  damage_grade\n",
       "0       802906             3\n",
       "1        28830             2\n",
       "2        94947             3"
      ]
     },
     "execution_count": 4,
     "metadata": {},
     "output_type": "execute_result"
    }
   ],
   "source": [
    "print(labels.shape)\n",
    "labels.head(3)"
   ]
  },
  {
   "cell_type": "markdown",
   "id": "0deccf09",
   "metadata": {},
   "source": [
    "The number of records of X and y are exactly the same. X has all the features and y has their corresponding labels. We can merge both on _building_id_."
   ]
  },
  {
   "cell_type": "code",
   "execution_count": 5,
   "id": "e82931d8",
   "metadata": {},
   "outputs": [],
   "source": [
    "df = X.merge(labels, on = \"building_id\" )"
   ]
  },
  {
   "cell_type": "code",
   "execution_count": 6,
   "id": "afcc7920",
   "metadata": {},
   "outputs": [
    {
     "data": {
      "text/html": [
       "<div>\n",
       "<style scoped>\n",
       "    .dataframe tbody tr th:only-of-type {\n",
       "        vertical-align: middle;\n",
       "    }\n",
       "\n",
       "    .dataframe tbody tr th {\n",
       "        vertical-align: top;\n",
       "    }\n",
       "\n",
       "    .dataframe thead th {\n",
       "        text-align: right;\n",
       "    }\n",
       "</style>\n",
       "<table border=\"1\" class=\"dataframe\">\n",
       "  <thead>\n",
       "    <tr style=\"text-align: right;\">\n",
       "      <th></th>\n",
       "      <th>building_id</th>\n",
       "      <th>geo_level_1_id</th>\n",
       "      <th>geo_level_2_id</th>\n",
       "      <th>geo_level_3_id</th>\n",
       "      <th>count_floors_pre_eq</th>\n",
       "      <th>age</th>\n",
       "      <th>area_percentage</th>\n",
       "      <th>height_percentage</th>\n",
       "      <th>land_surface_condition</th>\n",
       "      <th>foundation_type</th>\n",
       "      <th>...</th>\n",
       "      <th>has_secondary_use_hotel</th>\n",
       "      <th>has_secondary_use_rental</th>\n",
       "      <th>has_secondary_use_institution</th>\n",
       "      <th>has_secondary_use_school</th>\n",
       "      <th>has_secondary_use_industry</th>\n",
       "      <th>has_secondary_use_health_post</th>\n",
       "      <th>has_secondary_use_gov_office</th>\n",
       "      <th>has_secondary_use_use_police</th>\n",
       "      <th>has_secondary_use_other</th>\n",
       "      <th>damage_grade</th>\n",
       "    </tr>\n",
       "  </thead>\n",
       "  <tbody>\n",
       "    <tr>\n",
       "      <th>0</th>\n",
       "      <td>802906</td>\n",
       "      <td>6</td>\n",
       "      <td>487</td>\n",
       "      <td>12198</td>\n",
       "      <td>2</td>\n",
       "      <td>30</td>\n",
       "      <td>6</td>\n",
       "      <td>5</td>\n",
       "      <td>t</td>\n",
       "      <td>r</td>\n",
       "      <td>...</td>\n",
       "      <td>0</td>\n",
       "      <td>0</td>\n",
       "      <td>0</td>\n",
       "      <td>0</td>\n",
       "      <td>0</td>\n",
       "      <td>0</td>\n",
       "      <td>0</td>\n",
       "      <td>0</td>\n",
       "      <td>0</td>\n",
       "      <td>3</td>\n",
       "    </tr>\n",
       "    <tr>\n",
       "      <th>1</th>\n",
       "      <td>28830</td>\n",
       "      <td>8</td>\n",
       "      <td>900</td>\n",
       "      <td>2812</td>\n",
       "      <td>2</td>\n",
       "      <td>10</td>\n",
       "      <td>8</td>\n",
       "      <td>7</td>\n",
       "      <td>o</td>\n",
       "      <td>r</td>\n",
       "      <td>...</td>\n",
       "      <td>0</td>\n",
       "      <td>0</td>\n",
       "      <td>0</td>\n",
       "      <td>0</td>\n",
       "      <td>0</td>\n",
       "      <td>0</td>\n",
       "      <td>0</td>\n",
       "      <td>0</td>\n",
       "      <td>0</td>\n",
       "      <td>2</td>\n",
       "    </tr>\n",
       "    <tr>\n",
       "      <th>2</th>\n",
       "      <td>94947</td>\n",
       "      <td>21</td>\n",
       "      <td>363</td>\n",
       "      <td>8973</td>\n",
       "      <td>2</td>\n",
       "      <td>10</td>\n",
       "      <td>5</td>\n",
       "      <td>5</td>\n",
       "      <td>t</td>\n",
       "      <td>r</td>\n",
       "      <td>...</td>\n",
       "      <td>0</td>\n",
       "      <td>0</td>\n",
       "      <td>0</td>\n",
       "      <td>0</td>\n",
       "      <td>0</td>\n",
       "      <td>0</td>\n",
       "      <td>0</td>\n",
       "      <td>0</td>\n",
       "      <td>0</td>\n",
       "      <td>3</td>\n",
       "    </tr>\n",
       "    <tr>\n",
       "      <th>3</th>\n",
       "      <td>590882</td>\n",
       "      <td>22</td>\n",
       "      <td>418</td>\n",
       "      <td>10694</td>\n",
       "      <td>2</td>\n",
       "      <td>10</td>\n",
       "      <td>6</td>\n",
       "      <td>5</td>\n",
       "      <td>t</td>\n",
       "      <td>r</td>\n",
       "      <td>...</td>\n",
       "      <td>0</td>\n",
       "      <td>0</td>\n",
       "      <td>0</td>\n",
       "      <td>0</td>\n",
       "      <td>0</td>\n",
       "      <td>0</td>\n",
       "      <td>0</td>\n",
       "      <td>0</td>\n",
       "      <td>0</td>\n",
       "      <td>2</td>\n",
       "    </tr>\n",
       "    <tr>\n",
       "      <th>4</th>\n",
       "      <td>201944</td>\n",
       "      <td>11</td>\n",
       "      <td>131</td>\n",
       "      <td>1488</td>\n",
       "      <td>3</td>\n",
       "      <td>30</td>\n",
       "      <td>8</td>\n",
       "      <td>9</td>\n",
       "      <td>t</td>\n",
       "      <td>r</td>\n",
       "      <td>...</td>\n",
       "      <td>0</td>\n",
       "      <td>0</td>\n",
       "      <td>0</td>\n",
       "      <td>0</td>\n",
       "      <td>0</td>\n",
       "      <td>0</td>\n",
       "      <td>0</td>\n",
       "      <td>0</td>\n",
       "      <td>0</td>\n",
       "      <td>3</td>\n",
       "    </tr>\n",
       "  </tbody>\n",
       "</table>\n",
       "<p>5 rows × 40 columns</p>\n",
       "</div>"
      ],
      "text/plain": [
       "   building_id  geo_level_1_id  geo_level_2_id  geo_level_3_id  \\\n",
       "0       802906               6             487           12198   \n",
       "1        28830               8             900            2812   \n",
       "2        94947              21             363            8973   \n",
       "3       590882              22             418           10694   \n",
       "4       201944              11             131            1488   \n",
       "\n",
       "   count_floors_pre_eq  age  area_percentage  height_percentage  \\\n",
       "0                    2   30                6                  5   \n",
       "1                    2   10                8                  7   \n",
       "2                    2   10                5                  5   \n",
       "3                    2   10                6                  5   \n",
       "4                    3   30                8                  9   \n",
       "\n",
       "  land_surface_condition foundation_type  ... has_secondary_use_hotel  \\\n",
       "0                      t               r  ...                       0   \n",
       "1                      o               r  ...                       0   \n",
       "2                      t               r  ...                       0   \n",
       "3                      t               r  ...                       0   \n",
       "4                      t               r  ...                       0   \n",
       "\n",
       "  has_secondary_use_rental has_secondary_use_institution  \\\n",
       "0                        0                             0   \n",
       "1                        0                             0   \n",
       "2                        0                             0   \n",
       "3                        0                             0   \n",
       "4                        0                             0   \n",
       "\n",
       "  has_secondary_use_school has_secondary_use_industry  \\\n",
       "0                        0                          0   \n",
       "1                        0                          0   \n",
       "2                        0                          0   \n",
       "3                        0                          0   \n",
       "4                        0                          0   \n",
       "\n",
       "   has_secondary_use_health_post  has_secondary_use_gov_office  \\\n",
       "0                              0                             0   \n",
       "1                              0                             0   \n",
       "2                              0                             0   \n",
       "3                              0                             0   \n",
       "4                              0                             0   \n",
       "\n",
       "   has_secondary_use_use_police  has_secondary_use_other  damage_grade  \n",
       "0                             0                        0             3  \n",
       "1                             0                        0             2  \n",
       "2                             0                        0             3  \n",
       "3                             0                        0             2  \n",
       "4                             0                        0             3  \n",
       "\n",
       "[5 rows x 40 columns]"
      ]
     },
     "execution_count": 6,
     "metadata": {},
     "output_type": "execute_result"
    }
   ],
   "source": [
    "df.head()"
   ]
  },
  {
   "cell_type": "code",
   "execution_count": 7,
   "id": "c24291ee",
   "metadata": {},
   "outputs": [
    {
     "name": "stdout",
     "output_type": "stream",
     "text": [
      "<class 'pandas.core.frame.DataFrame'>\n",
      "Int64Index: 260601 entries, 0 to 260600\n",
      "Data columns (total 40 columns):\n",
      " #   Column                                  Non-Null Count   Dtype \n",
      "---  ------                                  --------------   ----- \n",
      " 0   building_id                             260601 non-null  int64 \n",
      " 1   geo_level_1_id                          260601 non-null  int64 \n",
      " 2   geo_level_2_id                          260601 non-null  int64 \n",
      " 3   geo_level_3_id                          260601 non-null  int64 \n",
      " 4   count_floors_pre_eq                     260601 non-null  int64 \n",
      " 5   age                                     260601 non-null  int64 \n",
      " 6   area_percentage                         260601 non-null  int64 \n",
      " 7   height_percentage                       260601 non-null  int64 \n",
      " 8   land_surface_condition                  260601 non-null  object\n",
      " 9   foundation_type                         260601 non-null  object\n",
      " 10  roof_type                               260601 non-null  object\n",
      " 11  ground_floor_type                       260601 non-null  object\n",
      " 12  other_floor_type                        260601 non-null  object\n",
      " 13  position                                260601 non-null  object\n",
      " 14  plan_configuration                      260601 non-null  object\n",
      " 15  has_superstructure_adobe_mud            260601 non-null  int64 \n",
      " 16  has_superstructure_mud_mortar_stone     260601 non-null  int64 \n",
      " 17  has_superstructure_stone_flag           260601 non-null  int64 \n",
      " 18  has_superstructure_cement_mortar_stone  260601 non-null  int64 \n",
      " 19  has_superstructure_mud_mortar_brick     260601 non-null  int64 \n",
      " 20  has_superstructure_cement_mortar_brick  260601 non-null  int64 \n",
      " 21  has_superstructure_timber               260601 non-null  int64 \n",
      " 22  has_superstructure_bamboo               260601 non-null  int64 \n",
      " 23  has_superstructure_rc_non_engineered    260601 non-null  int64 \n",
      " 24  has_superstructure_rc_engineered        260601 non-null  int64 \n",
      " 25  has_superstructure_other                260601 non-null  int64 \n",
      " 26  legal_ownership_status                  260601 non-null  object\n",
      " 27  count_families                          260601 non-null  int64 \n",
      " 28  has_secondary_use                       260601 non-null  int64 \n",
      " 29  has_secondary_use_agriculture           260601 non-null  int64 \n",
      " 30  has_secondary_use_hotel                 260601 non-null  int64 \n",
      " 31  has_secondary_use_rental                260601 non-null  int64 \n",
      " 32  has_secondary_use_institution           260601 non-null  int64 \n",
      " 33  has_secondary_use_school                260601 non-null  int64 \n",
      " 34  has_secondary_use_industry              260601 non-null  int64 \n",
      " 35  has_secondary_use_health_post           260601 non-null  int64 \n",
      " 36  has_secondary_use_gov_office            260601 non-null  int64 \n",
      " 37  has_secondary_use_use_police            260601 non-null  int64 \n",
      " 38  has_secondary_use_other                 260601 non-null  int64 \n",
      " 39  damage_grade                            260601 non-null  int64 \n",
      "dtypes: int64(32), object(8)\n",
      "memory usage: 81.5+ MB\n"
     ]
    }
   ],
   "source": [
    "df.info()"
   ]
  },
  {
   "cell_type": "markdown",
   "id": "9b010829",
   "metadata": {},
   "source": [
    "The dataset has no non-null values. We shall explore the various features provided."
   ]
  },
  {
   "cell_type": "code",
   "execution_count": 8,
   "id": "5062e96d",
   "metadata": {},
   "outputs": [
    {
     "data": {
      "text/plain": [
       "building_id                               260601\n",
       "geo_level_1_id                                31\n",
       "geo_level_2_id                              1414\n",
       "geo_level_3_id                             11595\n",
       "count_floors_pre_eq                            9\n",
       "age                                           42\n",
       "area_percentage                               84\n",
       "height_percentage                             27\n",
       "land_surface_condition                         3\n",
       "foundation_type                                5\n",
       "roof_type                                      3\n",
       "ground_floor_type                              5\n",
       "other_floor_type                               4\n",
       "position                                       4\n",
       "plan_configuration                            10\n",
       "has_superstructure_adobe_mud                   2\n",
       "has_superstructure_mud_mortar_stone            2\n",
       "has_superstructure_stone_flag                  2\n",
       "has_superstructure_cement_mortar_stone         2\n",
       "has_superstructure_mud_mortar_brick            2\n",
       "has_superstructure_cement_mortar_brick         2\n",
       "has_superstructure_timber                      2\n",
       "has_superstructure_bamboo                      2\n",
       "has_superstructure_rc_non_engineered           2\n",
       "has_superstructure_rc_engineered               2\n",
       "has_superstructure_other                       2\n",
       "legal_ownership_status                         4\n",
       "count_families                                10\n",
       "has_secondary_use                              2\n",
       "has_secondary_use_agriculture                  2\n",
       "has_secondary_use_hotel                        2\n",
       "has_secondary_use_rental                       2\n",
       "has_secondary_use_institution                  2\n",
       "has_secondary_use_school                       2\n",
       "has_secondary_use_industry                     2\n",
       "has_secondary_use_health_post                  2\n",
       "has_secondary_use_gov_office                   2\n",
       "has_secondary_use_use_police                   2\n",
       "has_secondary_use_other                        2\n",
       "damage_grade                                   3\n",
       "dtype: int64"
      ]
     },
     "execution_count": 8,
     "metadata": {},
     "output_type": "execute_result"
    }
   ],
   "source": [
    "df.nunique()"
   ]
  },
  {
   "cell_type": "markdown",
   "id": "cbaf8ad0",
   "metadata": {},
   "source": [
    "It seams that most of the features are categorical, with many being a binary feature (probably an yes/no feature). Let's get the column names of all the columns that has unique values less than 10 and further investigate."
   ]
  },
  {
   "cell_type": "code",
   "execution_count": 9,
   "id": "1daa8021",
   "metadata": {},
   "outputs": [
    {
     "data": {
      "text/plain": [
       "Index(['count_floors_pre_eq', 'land_surface_condition', 'foundation_type',\n",
       "       'roof_type', 'ground_floor_type', 'other_floor_type', 'position',\n",
       "       'plan_configuration', 'has_superstructure_adobe_mud',\n",
       "       'has_superstructure_mud_mortar_stone', 'has_superstructure_stone_flag',\n",
       "       'has_superstructure_cement_mortar_stone',\n",
       "       'has_superstructure_mud_mortar_brick',\n",
       "       'has_superstructure_cement_mortar_brick', 'has_superstructure_timber',\n",
       "       'has_superstructure_bamboo', 'has_superstructure_rc_non_engineered',\n",
       "       'has_superstructure_rc_engineered', 'has_superstructure_other',\n",
       "       'legal_ownership_status', 'count_families', 'has_secondary_use',\n",
       "       'has_secondary_use_agriculture', 'has_secondary_use_hotel',\n",
       "       'has_secondary_use_rental', 'has_secondary_use_institution',\n",
       "       'has_secondary_use_school', 'has_secondary_use_industry',\n",
       "       'has_secondary_use_health_post', 'has_secondary_use_gov_office',\n",
       "       'has_secondary_use_use_police', 'has_secondary_use_other',\n",
       "       'damage_grade'],\n",
       "      dtype='object')"
      ]
     },
     "execution_count": 9,
     "metadata": {},
     "output_type": "execute_result"
    }
   ],
   "source": [
    "categorical_columns = df.nunique()[df.nunique() <= 10].index\n",
    "\n",
    "categorical_columns"
   ]
  },
  {
   "cell_type": "code",
   "execution_count": 10,
   "id": "4f24b79f",
   "metadata": {
    "scrolled": false
   },
   "outputs": [
    {
     "ename": "KeyboardInterrupt",
     "evalue": "",
     "output_type": "error",
     "traceback": [
      "\u001b[1;31m---------------------------------------------------------------------------\u001b[0m",
      "\u001b[1;31mKeyboardInterrupt\u001b[0m                         Traceback (most recent call last)",
      "\u001b[1;32m~\\AppData\\Local\\Temp/ipykernel_27452/3821727114.py\u001b[0m in \u001b[0;36m<module>\u001b[1;34m\u001b[0m\n\u001b[0;32m      1\u001b[0m \u001b[0mcmap\u001b[0m \u001b[1;33m=\u001b[0m \u001b[0msns\u001b[0m\u001b[1;33m.\u001b[0m\u001b[0mlight_palette\u001b[0m\u001b[1;33m(\u001b[0m\u001b[1;34m\"#000000\"\u001b[0m\u001b[1;33m,\u001b[0m \u001b[0mas_cmap\u001b[0m\u001b[1;33m=\u001b[0m\u001b[1;32mTrue\u001b[0m\u001b[1;33m)\u001b[0m\u001b[1;33m\u001b[0m\u001b[1;33m\u001b[0m\u001b[0m\n\u001b[1;32m----> 2\u001b[1;33m \u001b[0massociation\u001b[0m \u001b[1;33m=\u001b[0m \u001b[0massociations\u001b[0m\u001b[1;33m(\u001b[0m\u001b[0mdf\u001b[0m\u001b[1;33m[\u001b[0m\u001b[0mcategorical_columns\u001b[0m\u001b[1;33m]\u001b[0m\u001b[1;33m.\u001b[0m\u001b[0mastype\u001b[0m\u001b[1;33m(\u001b[0m\u001b[0mstr\u001b[0m\u001b[1;33m)\u001b[0m\u001b[1;33m,\u001b[0m \u001b[0mcompute_only\u001b[0m \u001b[1;33m=\u001b[0m \u001b[1;32mTrue\u001b[0m\u001b[1;33m)\u001b[0m\u001b[1;33m\u001b[0m\u001b[1;33m\u001b[0m\u001b[0m\n\u001b[0m\u001b[0;32m      3\u001b[0m \u001b[1;33m\u001b[0m\u001b[0m\n\u001b[0;32m      4\u001b[0m \u001b[0mplt\u001b[0m\u001b[1;33m.\u001b[0m\u001b[0msubplots\u001b[0m\u001b[1;33m(\u001b[0m\u001b[0mfigsize\u001b[0m \u001b[1;33m=\u001b[0m \u001b[1;33m(\u001b[0m\u001b[1;36m10\u001b[0m\u001b[1;33m,\u001b[0m \u001b[1;36m7\u001b[0m\u001b[1;33m)\u001b[0m\u001b[1;33m)\u001b[0m\u001b[1;33m\u001b[0m\u001b[1;33m\u001b[0m\u001b[0m\n\u001b[0;32m      5\u001b[0m \u001b[0msns\u001b[0m\u001b[1;33m.\u001b[0m\u001b[0mheatmap\u001b[0m\u001b[1;33m(\u001b[0m\u001b[0massociation\u001b[0m\u001b[1;33m[\u001b[0m\u001b[1;34m\"corr\"\u001b[0m\u001b[1;33m]\u001b[0m\u001b[1;33m,\u001b[0m \u001b[0mmask\u001b[0m \u001b[1;33m=\u001b[0m \u001b[0mnp\u001b[0m\u001b[1;33m.\u001b[0m\u001b[0mtril\u001b[0m\u001b[1;33m(\u001b[0m\u001b[0massociation\u001b[0m\u001b[1;33m[\u001b[0m\u001b[1;34m\"corr\"\u001b[0m\u001b[1;33m]\u001b[0m\u001b[1;33m)\u001b[0m \u001b[1;33m==\u001b[0m \u001b[1;36m0\u001b[0m\u001b[1;33m,\u001b[0m \u001b[0mcmap\u001b[0m \u001b[1;33m=\u001b[0m \u001b[0mcmap\u001b[0m\u001b[1;33m,\u001b[0m \u001b[0mlinewidths\u001b[0m \u001b[1;33m=\u001b[0m \u001b[1;36m0.2\u001b[0m\u001b[1;33m)\u001b[0m\u001b[1;33m\u001b[0m\u001b[1;33m\u001b[0m\u001b[0m\n",
      "\u001b[1;32m~\\anaconda3\\lib\\site-packages\\dython\\nominal.py\u001b[0m in \u001b[0;36massociations\u001b[1;34m(dataset, nominal_columns, numerical_columns, mark_columns, nom_nom_assoc, num_num_assoc, nom_num_assoc, symmetric_nom_nom, symmetric_num_num, display_rows, display_columns, hide_rows, hide_columns, cramers_v_bias_correction, nan_strategy, nan_replace_value, ax, figsize, annot, fmt, cmap, sv_color, cbar, vmax, vmin, plot, linewidths, compute_only, clustering, title, filename, mask)\u001b[0m\n\u001b[0;32m    546\u001b[0m     \u001b[0msingle_value_columns_set\u001b[0m \u001b[1;33m=\u001b[0m \u001b[0mset\u001b[0m\u001b[1;33m(\u001b[0m\u001b[1;33m)\u001b[0m\u001b[1;33m\u001b[0m\u001b[1;33m\u001b[0m\u001b[0m\n\u001b[0;32m    547\u001b[0m     \u001b[1;32mfor\u001b[0m \u001b[0mc\u001b[0m \u001b[1;32min\u001b[0m \u001b[0mdisplayed_features_set\u001b[0m\u001b[1;33m:\u001b[0m\u001b[1;33m\u001b[0m\u001b[1;33m\u001b[0m\u001b[0m\n\u001b[1;32m--> 548\u001b[1;33m         \u001b[1;32mif\u001b[0m \u001b[0mdataset\u001b[0m\u001b[1;33m[\u001b[0m\u001b[0mc\u001b[0m\u001b[1;33m]\u001b[0m\u001b[1;33m.\u001b[0m\u001b[0munique\u001b[0m\u001b[1;33m(\u001b[0m\u001b[1;33m)\u001b[0m\u001b[1;33m.\u001b[0m\u001b[0msize\u001b[0m \u001b[1;33m==\u001b[0m \u001b[1;36m1\u001b[0m\u001b[1;33m:\u001b[0m\u001b[1;33m\u001b[0m\u001b[1;33m\u001b[0m\u001b[0m\n\u001b[0m\u001b[0;32m    549\u001b[0m             \u001b[0msingle_value_columns_set\u001b[0m\u001b[1;33m.\u001b[0m\u001b[0madd\u001b[0m\u001b[1;33m(\u001b[0m\u001b[0mc\u001b[0m\u001b[1;33m)\u001b[0m\u001b[1;33m\u001b[0m\u001b[1;33m\u001b[0m\u001b[0m\n\u001b[0;32m    550\u001b[0m \u001b[1;33m\u001b[0m\u001b[0m\n",
      "\u001b[1;32m~\\anaconda3\\lib\\site-packages\\pandas\\core\\series.py\u001b[0m in \u001b[0;36munique\u001b[1;34m(self)\u001b[0m\n\u001b[0;32m   2037\u001b[0m         \u001b[0mCategories\u001b[0m \u001b[1;33m(\u001b[0m\u001b[1;36m3\u001b[0m\u001b[1;33m,\u001b[0m \u001b[0mobject\u001b[0m\u001b[1;33m)\u001b[0m\u001b[1;33m:\u001b[0m \u001b[1;33m[\u001b[0m\u001b[1;34m'a'\u001b[0m \u001b[1;33m<\u001b[0m \u001b[1;34m'b'\u001b[0m \u001b[1;33m<\u001b[0m \u001b[1;34m'c'\u001b[0m\u001b[1;33m]\u001b[0m\u001b[1;33m\u001b[0m\u001b[1;33m\u001b[0m\u001b[0m\n\u001b[0;32m   2038\u001b[0m         \"\"\"\n\u001b[1;32m-> 2039\u001b[1;33m         \u001b[1;32mreturn\u001b[0m \u001b[0msuper\u001b[0m\u001b[1;33m(\u001b[0m\u001b[1;33m)\u001b[0m\u001b[1;33m.\u001b[0m\u001b[0munique\u001b[0m\u001b[1;33m(\u001b[0m\u001b[1;33m)\u001b[0m\u001b[1;33m\u001b[0m\u001b[1;33m\u001b[0m\u001b[0m\n\u001b[0m\u001b[0;32m   2040\u001b[0m \u001b[1;33m\u001b[0m\u001b[0m\n\u001b[0;32m   2041\u001b[0m     \u001b[1;33m@\u001b[0m\u001b[0moverload\u001b[0m\u001b[1;33m\u001b[0m\u001b[1;33m\u001b[0m\u001b[0m\n",
      "\u001b[1;32m~\\anaconda3\\lib\\site-packages\\pandas\\core\\base.py\u001b[0m in \u001b[0;36munique\u001b[1;34m(self)\u001b[0m\n\u001b[0;32m    977\u001b[0m                     \u001b[0mresult\u001b[0m \u001b[1;33m=\u001b[0m \u001b[0mnp\u001b[0m\u001b[1;33m.\u001b[0m\u001b[0masarray\u001b[0m\u001b[1;33m(\u001b[0m\u001b[0mresult\u001b[0m\u001b[1;33m)\u001b[0m\u001b[1;33m\u001b[0m\u001b[1;33m\u001b[0m\u001b[0m\n\u001b[0;32m    978\u001b[0m         \u001b[1;32melse\u001b[0m\u001b[1;33m:\u001b[0m\u001b[1;33m\u001b[0m\u001b[1;33m\u001b[0m\u001b[0m\n\u001b[1;32m--> 979\u001b[1;33m             \u001b[0mresult\u001b[0m \u001b[1;33m=\u001b[0m \u001b[0munique1d\u001b[0m\u001b[1;33m(\u001b[0m\u001b[0mvalues\u001b[0m\u001b[1;33m)\u001b[0m\u001b[1;33m\u001b[0m\u001b[1;33m\u001b[0m\u001b[0m\n\u001b[0m\u001b[0;32m    980\u001b[0m \u001b[1;33m\u001b[0m\u001b[0m\n\u001b[0;32m    981\u001b[0m         \u001b[1;32mreturn\u001b[0m \u001b[0mresult\u001b[0m\u001b[1;33m\u001b[0m\u001b[1;33m\u001b[0m\u001b[0m\n",
      "\u001b[1;32m~\\anaconda3\\lib\\site-packages\\pandas\\core\\algorithms.py\u001b[0m in \u001b[0;36munique\u001b[1;34m(values)\u001b[0m\n\u001b[0;32m    429\u001b[0m \u001b[1;33m\u001b[0m\u001b[0m\n\u001b[0;32m    430\u001b[0m     \u001b[0mtable\u001b[0m \u001b[1;33m=\u001b[0m \u001b[0mhtable\u001b[0m\u001b[1;33m(\u001b[0m\u001b[0mlen\u001b[0m\u001b[1;33m(\u001b[0m\u001b[0mvalues\u001b[0m\u001b[1;33m)\u001b[0m\u001b[1;33m)\u001b[0m\u001b[1;33m\u001b[0m\u001b[1;33m\u001b[0m\u001b[0m\n\u001b[1;32m--> 431\u001b[1;33m     \u001b[0muniques\u001b[0m \u001b[1;33m=\u001b[0m \u001b[0mtable\u001b[0m\u001b[1;33m.\u001b[0m\u001b[0munique\u001b[0m\u001b[1;33m(\u001b[0m\u001b[0mvalues\u001b[0m\u001b[1;33m)\u001b[0m\u001b[1;33m\u001b[0m\u001b[1;33m\u001b[0m\u001b[0m\n\u001b[0m\u001b[0;32m    432\u001b[0m     \u001b[0muniques\u001b[0m \u001b[1;33m=\u001b[0m \u001b[0m_reconstruct_data\u001b[0m\u001b[1;33m(\u001b[0m\u001b[0muniques\u001b[0m\u001b[1;33m,\u001b[0m \u001b[0moriginal\u001b[0m\u001b[1;33m.\u001b[0m\u001b[0mdtype\u001b[0m\u001b[1;33m,\u001b[0m \u001b[0moriginal\u001b[0m\u001b[1;33m)\u001b[0m\u001b[1;33m\u001b[0m\u001b[1;33m\u001b[0m\u001b[0m\n\u001b[0;32m    433\u001b[0m     \u001b[1;32mreturn\u001b[0m \u001b[0muniques\u001b[0m\u001b[1;33m\u001b[0m\u001b[1;33m\u001b[0m\u001b[0m\n",
      "\u001b[1;31mKeyboardInterrupt\u001b[0m: "
     ]
    }
   ],
   "source": [
    "cmap = sns.light_palette(\"#000000\", as_cmap=True)\n",
    "association = associations(df[categorical_columns].astype(str), compute_only = True)\n",
    "\n",
    "plt.subplots(figsize = (10, 7))\n",
    "sns.heatmap(association[\"corr\"], mask = np.tril(association[\"corr\"]) == 0, cmap = cmap, linewidths = 0.2)"
   ]
  },
  {
   "cell_type": "markdown",
   "id": "bd802ca1",
   "metadata": {},
   "source": [
    "From the associations plot, we can see that the features foundation type, roof rype, ground floor type, other floor type and position are highly associated with the superstructure features. Let's only use the superstructure features.\n",
    "\n",
    "Also, it can be seen that \"has_secondary_use\" is just a redundant information, probably if any of the secondary use column is true, then \"has_secondary_use\" would also be marked as True. Let's verify this."
   ]
  },
  {
   "cell_type": "code",
   "execution_count": 10,
   "id": "8ebd0d91",
   "metadata": {},
   "outputs": [
    {
     "data": {
      "text/html": [
       "<div>\n",
       "<style scoped>\n",
       "    .dataframe tbody tr th:only-of-type {\n",
       "        vertical-align: middle;\n",
       "    }\n",
       "\n",
       "    .dataframe tbody tr th {\n",
       "        vertical-align: top;\n",
       "    }\n",
       "\n",
       "    .dataframe thead th {\n",
       "        text-align: right;\n",
       "    }\n",
       "</style>\n",
       "<table border=\"1\" class=\"dataframe\">\n",
       "  <thead>\n",
       "    <tr style=\"text-align: right;\">\n",
       "      <th></th>\n",
       "      <th>has_secondary_use</th>\n",
       "      <th>has_secondary_use_agriculture</th>\n",
       "      <th>has_secondary_use_hotel</th>\n",
       "      <th>has_secondary_use_rental</th>\n",
       "      <th>has_secondary_use_institution</th>\n",
       "      <th>has_secondary_use_school</th>\n",
       "      <th>has_secondary_use_industry</th>\n",
       "      <th>has_secondary_use_health_post</th>\n",
       "      <th>has_secondary_use_gov_office</th>\n",
       "      <th>has_secondary_use_use_police</th>\n",
       "      <th>has_secondary_use_other</th>\n",
       "    </tr>\n",
       "  </thead>\n",
       "  <tbody>\n",
       "    <tr>\n",
       "      <th>0</th>\n",
       "      <td>0</td>\n",
       "      <td>0</td>\n",
       "      <td>0</td>\n",
       "      <td>0</td>\n",
       "      <td>0</td>\n",
       "      <td>0</td>\n",
       "      <td>0</td>\n",
       "      <td>0</td>\n",
       "      <td>0</td>\n",
       "      <td>0</td>\n",
       "      <td>0</td>\n",
       "    </tr>\n",
       "    <tr>\n",
       "      <th>1</th>\n",
       "      <td>0</td>\n",
       "      <td>0</td>\n",
       "      <td>0</td>\n",
       "      <td>0</td>\n",
       "      <td>0</td>\n",
       "      <td>0</td>\n",
       "      <td>0</td>\n",
       "      <td>0</td>\n",
       "      <td>0</td>\n",
       "      <td>0</td>\n",
       "      <td>0</td>\n",
       "    </tr>\n",
       "    <tr>\n",
       "      <th>2</th>\n",
       "      <td>0</td>\n",
       "      <td>0</td>\n",
       "      <td>0</td>\n",
       "      <td>0</td>\n",
       "      <td>0</td>\n",
       "      <td>0</td>\n",
       "      <td>0</td>\n",
       "      <td>0</td>\n",
       "      <td>0</td>\n",
       "      <td>0</td>\n",
       "      <td>0</td>\n",
       "    </tr>\n",
       "    <tr>\n",
       "      <th>3</th>\n",
       "      <td>0</td>\n",
       "      <td>0</td>\n",
       "      <td>0</td>\n",
       "      <td>0</td>\n",
       "      <td>0</td>\n",
       "      <td>0</td>\n",
       "      <td>0</td>\n",
       "      <td>0</td>\n",
       "      <td>0</td>\n",
       "      <td>0</td>\n",
       "      <td>0</td>\n",
       "    </tr>\n",
       "    <tr>\n",
       "      <th>4</th>\n",
       "      <td>0</td>\n",
       "      <td>0</td>\n",
       "      <td>0</td>\n",
       "      <td>0</td>\n",
       "      <td>0</td>\n",
       "      <td>0</td>\n",
       "      <td>0</td>\n",
       "      <td>0</td>\n",
       "      <td>0</td>\n",
       "      <td>0</td>\n",
       "      <td>0</td>\n",
       "    </tr>\n",
       "    <tr>\n",
       "      <th>...</th>\n",
       "      <td>...</td>\n",
       "      <td>...</td>\n",
       "      <td>...</td>\n",
       "      <td>...</td>\n",
       "      <td>...</td>\n",
       "      <td>...</td>\n",
       "      <td>...</td>\n",
       "      <td>...</td>\n",
       "      <td>...</td>\n",
       "      <td>...</td>\n",
       "      <td>...</td>\n",
       "    </tr>\n",
       "    <tr>\n",
       "      <th>260596</th>\n",
       "      <td>0</td>\n",
       "      <td>0</td>\n",
       "      <td>0</td>\n",
       "      <td>0</td>\n",
       "      <td>0</td>\n",
       "      <td>0</td>\n",
       "      <td>0</td>\n",
       "      <td>0</td>\n",
       "      <td>0</td>\n",
       "      <td>0</td>\n",
       "      <td>0</td>\n",
       "    </tr>\n",
       "    <tr>\n",
       "      <th>260597</th>\n",
       "      <td>0</td>\n",
       "      <td>0</td>\n",
       "      <td>0</td>\n",
       "      <td>0</td>\n",
       "      <td>0</td>\n",
       "      <td>0</td>\n",
       "      <td>0</td>\n",
       "      <td>0</td>\n",
       "      <td>0</td>\n",
       "      <td>0</td>\n",
       "      <td>0</td>\n",
       "    </tr>\n",
       "    <tr>\n",
       "      <th>260598</th>\n",
       "      <td>0</td>\n",
       "      <td>0</td>\n",
       "      <td>0</td>\n",
       "      <td>0</td>\n",
       "      <td>0</td>\n",
       "      <td>0</td>\n",
       "      <td>0</td>\n",
       "      <td>0</td>\n",
       "      <td>0</td>\n",
       "      <td>0</td>\n",
       "      <td>0</td>\n",
       "    </tr>\n",
       "    <tr>\n",
       "      <th>260599</th>\n",
       "      <td>0</td>\n",
       "      <td>0</td>\n",
       "      <td>0</td>\n",
       "      <td>0</td>\n",
       "      <td>0</td>\n",
       "      <td>0</td>\n",
       "      <td>0</td>\n",
       "      <td>0</td>\n",
       "      <td>0</td>\n",
       "      <td>0</td>\n",
       "      <td>0</td>\n",
       "    </tr>\n",
       "    <tr>\n",
       "      <th>260600</th>\n",
       "      <td>0</td>\n",
       "      <td>0</td>\n",
       "      <td>0</td>\n",
       "      <td>0</td>\n",
       "      <td>0</td>\n",
       "      <td>0</td>\n",
       "      <td>0</td>\n",
       "      <td>0</td>\n",
       "      <td>0</td>\n",
       "      <td>0</td>\n",
       "      <td>0</td>\n",
       "    </tr>\n",
       "  </tbody>\n",
       "</table>\n",
       "<p>260601 rows × 11 columns</p>\n",
       "</div>"
      ],
      "text/plain": [
       "        has_secondary_use  has_secondary_use_agriculture  \\\n",
       "0                       0                              0   \n",
       "1                       0                              0   \n",
       "2                       0                              0   \n",
       "3                       0                              0   \n",
       "4                       0                              0   \n",
       "...                   ...                            ...   \n",
       "260596                  0                              0   \n",
       "260597                  0                              0   \n",
       "260598                  0                              0   \n",
       "260599                  0                              0   \n",
       "260600                  0                              0   \n",
       "\n",
       "        has_secondary_use_hotel  has_secondary_use_rental  \\\n",
       "0                             0                         0   \n",
       "1                             0                         0   \n",
       "2                             0                         0   \n",
       "3                             0                         0   \n",
       "4                             0                         0   \n",
       "...                         ...                       ...   \n",
       "260596                        0                         0   \n",
       "260597                        0                         0   \n",
       "260598                        0                         0   \n",
       "260599                        0                         0   \n",
       "260600                        0                         0   \n",
       "\n",
       "        has_secondary_use_institution  has_secondary_use_school  \\\n",
       "0                                   0                         0   \n",
       "1                                   0                         0   \n",
       "2                                   0                         0   \n",
       "3                                   0                         0   \n",
       "4                                   0                         0   \n",
       "...                               ...                       ...   \n",
       "260596                              0                         0   \n",
       "260597                              0                         0   \n",
       "260598                              0                         0   \n",
       "260599                              0                         0   \n",
       "260600                              0                         0   \n",
       "\n",
       "        has_secondary_use_industry  has_secondary_use_health_post  \\\n",
       "0                                0                              0   \n",
       "1                                0                              0   \n",
       "2                                0                              0   \n",
       "3                                0                              0   \n",
       "4                                0                              0   \n",
       "...                            ...                            ...   \n",
       "260596                           0                              0   \n",
       "260597                           0                              0   \n",
       "260598                           0                              0   \n",
       "260599                           0                              0   \n",
       "260600                           0                              0   \n",
       "\n",
       "        has_secondary_use_gov_office  has_secondary_use_use_police  \\\n",
       "0                                  0                             0   \n",
       "1                                  0                             0   \n",
       "2                                  0                             0   \n",
       "3                                  0                             0   \n",
       "4                                  0                             0   \n",
       "...                              ...                           ...   \n",
       "260596                             0                             0   \n",
       "260597                             0                             0   \n",
       "260598                             0                             0   \n",
       "260599                             0                             0   \n",
       "260600                             0                             0   \n",
       "\n",
       "        has_secondary_use_other  \n",
       "0                             0  \n",
       "1                             0  \n",
       "2                             0  \n",
       "3                             0  \n",
       "4                             0  \n",
       "...                         ...  \n",
       "260596                        0  \n",
       "260597                        0  \n",
       "260598                        0  \n",
       "260599                        0  \n",
       "260600                        0  \n",
       "\n",
       "[260601 rows x 11 columns]"
      ]
     },
     "execution_count": 10,
     "metadata": {},
     "output_type": "execute_result"
    }
   ],
   "source": [
    "has_sec_df = df[[col for col in categorical_columns if \"has_secondary\" in col]]\n",
    "\n",
    "has_sec_df"
   ]
  },
  {
   "cell_type": "code",
   "execution_count": 11,
   "id": "c04f8fc8",
   "metadata": {},
   "outputs": [
    {
     "data": {
      "text/plain": [
       "False"
      ]
     },
     "execution_count": 11,
     "metadata": {},
     "output_type": "execute_result"
    }
   ],
   "source": [
    "(has_sec_df.iloc[:, 1:].sum(axis = 1) == has_sec_df.iloc[:, 0]).all()"
   ]
  },
  {
   "cell_type": "code",
   "execution_count": 12,
   "id": "cd88db1e",
   "metadata": {},
   "outputs": [
    {
     "name": "stdout",
     "output_type": "stream",
     "text": [
      "(557, 11)\n"
     ]
    },
    {
     "data": {
      "text/html": [
       "<div>\n",
       "<style scoped>\n",
       "    .dataframe tbody tr th:only-of-type {\n",
       "        vertical-align: middle;\n",
       "    }\n",
       "\n",
       "    .dataframe tbody tr th {\n",
       "        vertical-align: top;\n",
       "    }\n",
       "\n",
       "    .dataframe thead th {\n",
       "        text-align: right;\n",
       "    }\n",
       "</style>\n",
       "<table border=\"1\" class=\"dataframe\">\n",
       "  <thead>\n",
       "    <tr style=\"text-align: right;\">\n",
       "      <th></th>\n",
       "      <th>has_secondary_use</th>\n",
       "      <th>has_secondary_use_agriculture</th>\n",
       "      <th>has_secondary_use_hotel</th>\n",
       "      <th>has_secondary_use_rental</th>\n",
       "      <th>has_secondary_use_institution</th>\n",
       "      <th>has_secondary_use_school</th>\n",
       "      <th>has_secondary_use_industry</th>\n",
       "      <th>has_secondary_use_health_post</th>\n",
       "      <th>has_secondary_use_gov_office</th>\n",
       "      <th>has_secondary_use_use_police</th>\n",
       "      <th>has_secondary_use_other</th>\n",
       "    </tr>\n",
       "  </thead>\n",
       "  <tbody>\n",
       "    <tr>\n",
       "      <th>304</th>\n",
       "      <td>1</td>\n",
       "      <td>1</td>\n",
       "      <td>0</td>\n",
       "      <td>0</td>\n",
       "      <td>0</td>\n",
       "      <td>0</td>\n",
       "      <td>0</td>\n",
       "      <td>0</td>\n",
       "      <td>0</td>\n",
       "      <td>0</td>\n",
       "      <td>1</td>\n",
       "    </tr>\n",
       "    <tr>\n",
       "      <th>1408</th>\n",
       "      <td>1</td>\n",
       "      <td>1</td>\n",
       "      <td>0</td>\n",
       "      <td>0</td>\n",
       "      <td>0</td>\n",
       "      <td>0</td>\n",
       "      <td>0</td>\n",
       "      <td>0</td>\n",
       "      <td>0</td>\n",
       "      <td>0</td>\n",
       "      <td>1</td>\n",
       "    </tr>\n",
       "    <tr>\n",
       "      <th>1593</th>\n",
       "      <td>1</td>\n",
       "      <td>1</td>\n",
       "      <td>0</td>\n",
       "      <td>0</td>\n",
       "      <td>0</td>\n",
       "      <td>0</td>\n",
       "      <td>0</td>\n",
       "      <td>0</td>\n",
       "      <td>0</td>\n",
       "      <td>0</td>\n",
       "      <td>1</td>\n",
       "    </tr>\n",
       "    <tr>\n",
       "      <th>2329</th>\n",
       "      <td>1</td>\n",
       "      <td>1</td>\n",
       "      <td>0</td>\n",
       "      <td>0</td>\n",
       "      <td>0</td>\n",
       "      <td>0</td>\n",
       "      <td>0</td>\n",
       "      <td>0</td>\n",
       "      <td>0</td>\n",
       "      <td>0</td>\n",
       "      <td>1</td>\n",
       "    </tr>\n",
       "    <tr>\n",
       "      <th>3704</th>\n",
       "      <td>1</td>\n",
       "      <td>0</td>\n",
       "      <td>1</td>\n",
       "      <td>0</td>\n",
       "      <td>0</td>\n",
       "      <td>0</td>\n",
       "      <td>0</td>\n",
       "      <td>0</td>\n",
       "      <td>0</td>\n",
       "      <td>0</td>\n",
       "      <td>1</td>\n",
       "    </tr>\n",
       "  </tbody>\n",
       "</table>\n",
       "</div>"
      ],
      "text/plain": [
       "      has_secondary_use  has_secondary_use_agriculture  \\\n",
       "304                   1                              1   \n",
       "1408                  1                              1   \n",
       "1593                  1                              1   \n",
       "2329                  1                              1   \n",
       "3704                  1                              0   \n",
       "\n",
       "      has_secondary_use_hotel  has_secondary_use_rental  \\\n",
       "304                         0                         0   \n",
       "1408                        0                         0   \n",
       "1593                        0                         0   \n",
       "2329                        0                         0   \n",
       "3704                        1                         0   \n",
       "\n",
       "      has_secondary_use_institution  has_secondary_use_school  \\\n",
       "304                               0                         0   \n",
       "1408                              0                         0   \n",
       "1593                              0                         0   \n",
       "2329                              0                         0   \n",
       "3704                              0                         0   \n",
       "\n",
       "      has_secondary_use_industry  has_secondary_use_health_post  \\\n",
       "304                            0                              0   \n",
       "1408                           0                              0   \n",
       "1593                           0                              0   \n",
       "2329                           0                              0   \n",
       "3704                           0                              0   \n",
       "\n",
       "      has_secondary_use_gov_office  has_secondary_use_use_police  \\\n",
       "304                              0                             0   \n",
       "1408                             0                             0   \n",
       "1593                             0                             0   \n",
       "2329                             0                             0   \n",
       "3704                             0                             0   \n",
       "\n",
       "      has_secondary_use_other  \n",
       "304                         1  \n",
       "1408                        1  \n",
       "1593                        1  \n",
       "2329                        1  \n",
       "3704                        1  "
      ]
     },
     "execution_count": 12,
     "metadata": {},
     "output_type": "execute_result"
    }
   ],
   "source": [
    "print(has_sec_df[(has_sec_df.iloc[:, 1:].sum(axis = 1) != has_sec_df.iloc[:, 0])].shape)\n",
    "\n",
    "has_sec_df[(has_sec_df.iloc[:, 1:].sum(axis = 1) != has_sec_df.iloc[:, 0])].head(5)"
   ]
  },
  {
   "cell_type": "markdown",
   "id": "11e9758c",
   "metadata": {},
   "source": [
    "From the investigation, it seems that few records has multiple secondary purpose, which was inferred after checking if the sum of all the secondary uses equals to \"has_secondary_use\" column. \n",
    "\n",
    "But still, the \"has_secondary_use\" is redundant as our initial guess. With that, we can have two approaches while training the model. \n",
    "* Only using the main column.\n",
    "* Dropping the main column and using every other columns."
   ]
  },
  {
   "cell_type": "markdown",
   "id": "371fdb7a",
   "metadata": {},
   "source": [
    "The building height feature and the floor count feature would probably be highly correlated. Let's check their correlation coefficient."
   ]
  },
  {
   "cell_type": "code",
   "execution_count": 13,
   "id": "f9e5affa",
   "metadata": {},
   "outputs": [
    {
     "name": "stdout",
     "output_type": "stream",
     "text": [
      "Pearson-correlation between height and the number of floors is 0.7727343845139328\n"
     ]
    }
   ],
   "source": [
    "print(\"Pearson-correlation between height and the number of floors is\",df[\"height_percentage\"].corr(df[\"count_floors_pre_eq\"]))"
   ]
  },
  {
   "cell_type": "markdown",
   "id": "cbef399e",
   "metadata": {},
   "source": [
    "They have a high correlation. Let's see, which contributes most in predicting the label by determining the correlation-coefficient with the target variable."
   ]
  },
  {
   "cell_type": "code",
   "execution_count": 14,
   "id": "362c12bd",
   "metadata": {},
   "outputs": [
    {
     "data": {
      "text/plain": [
       "height_percentage      0.048130\n",
       "count_floors_pre_eq    0.122308\n",
       "dtype: float64"
      ]
     },
     "execution_count": 14,
     "metadata": {},
     "output_type": "execute_result"
    }
   ],
   "source": [
    "df[[\"height_percentage\", \"count_floors_pre_eq\"]].corrwith(df[\"damage_grade\"])"
   ]
  },
  {
   "cell_type": "markdown",
   "id": "166feb7a",
   "metadata": {},
   "source": [
    "Floor count has 12% pearson-coefficient with the damage grade. So, we can drop height_percentage."
   ]
  },
  {
   "cell_type": "code",
   "execution_count": 15,
   "id": "e87fb2ba",
   "metadata": {},
   "outputs": [
    {
     "data": {
      "text/plain": [
       "Index(['count_floors_pre_eq', 'land_surface_condition', 'foundation_type',\n",
       "       'roof_type', 'ground_floor_type', 'other_floor_type', 'position',\n",
       "       'plan_configuration', 'has_superstructure_adobe_mud',\n",
       "       'has_superstructure_mud_mortar_stone', 'has_superstructure_stone_flag',\n",
       "       'has_superstructure_cement_mortar_stone',\n",
       "       'has_superstructure_mud_mortar_brick',\n",
       "       'has_superstructure_cement_mortar_brick', 'has_superstructure_timber',\n",
       "       'has_superstructure_bamboo', 'has_superstructure_rc_non_engineered',\n",
       "       'has_superstructure_rc_engineered', 'has_superstructure_other',\n",
       "       'legal_ownership_status', 'count_families', 'has_secondary_use',\n",
       "       'has_secondary_use_agriculture', 'has_secondary_use_hotel',\n",
       "       'has_secondary_use_rental', 'has_secondary_use_institution',\n",
       "       'has_secondary_use_school', 'has_secondary_use_industry',\n",
       "       'has_secondary_use_health_post', 'has_secondary_use_gov_office',\n",
       "       'has_secondary_use_use_police', 'has_secondary_use_other',\n",
       "       'damage_grade'],\n",
       "      dtype='object')"
      ]
     },
     "execution_count": 15,
     "metadata": {},
     "output_type": "execute_result"
    }
   ],
   "source": [
    "categorical_columns"
   ]
  },
  {
   "cell_type": "markdown",
   "id": "25187a86",
   "metadata": {},
   "source": [
    "Initial assumption of important categorical features that contributes to the damage prediction from the correlation plot are,\n",
    "\n",
    "* Land surface condition\n",
    "* Has adobe mud superstructure\n",
    "* Has mud-mortar-stone super-structure\n",
    "* Has superstructure stone flag\n",
    "* Has cement-mortar-stone super-structure\n",
    "* Has cement-mortat-brick super-structure\n",
    "* Has super-structure timber\n",
    "* Has super-structure bamboo\n",
    "* Has super-structure-RC non-engineered\n",
    "* Has super-structure-RC engineered\n",
    "* Has secondary use\n",
    "\n",
    "The floor count feature should problably be a numerical feature as the number of floor should influence the co-efficient of feature importance in predicting the damage grade"
   ]
  },
  {
   "cell_type": "markdown",
   "id": "3799844b",
   "metadata": {},
   "source": [
    "Let's now get the remaining numerical variables"
   ]
  },
  {
   "cell_type": "code",
   "execution_count": 16,
   "id": "b78fd620",
   "metadata": {},
   "outputs": [
    {
     "data": {
      "text/plain": [
       "['building_id',\n",
       " 'geo_level_1_id',\n",
       " 'geo_level_2_id',\n",
       " 'geo_level_3_id',\n",
       " 'age',\n",
       " 'area_percentage',\n",
       " 'height_percentage']"
      ]
     },
     "execution_count": 16,
     "metadata": {},
     "output_type": "execute_result"
    }
   ],
   "source": [
    "numerical_columns = [col for col in df.columns if col not in categorical_columns]\n",
    "\n",
    "numerical_columns"
   ]
  },
  {
   "cell_type": "code",
   "execution_count": 17,
   "id": "ba1551ee",
   "metadata": {},
   "outputs": [
    {
     "data": {
      "text/plain": [
       "geo_level_1_id       31\n",
       "geo_level_2_id     1414\n",
       "geo_level_3_id    11595\n",
       "dtype: int64"
      ]
     },
     "execution_count": 17,
     "metadata": {},
     "output_type": "execute_result"
    }
   ],
   "source": [
    "df[numerical_columns].iloc[:,1:4].nunique()"
   ]
  },
  {
   "cell_type": "markdown",
   "id": "83516dd9",
   "metadata": {},
   "source": [
    "The geo_level represents the geographical location of the building. It does not make sense to use them as numerical feature. As an initial approach, we shall add level 1 into the categorical column and drop level 2 and level 3.\n",
    "\n",
    "Age of the building and the area are the features, that should be used in building our model. Height feature can be dropped as it has a high correlation with floor count."
   ]
  },
  {
   "cell_type": "markdown",
   "id": "0273f3e5",
   "metadata": {},
   "source": [
    "Let's plot the distribution of other numerical columns"
   ]
  },
  {
   "cell_type": "code",
   "execution_count": 18,
   "id": "a52ffd60",
   "metadata": {},
   "outputs": [],
   "source": [
    "from ipywidgets import interactive, widgets"
   ]
  },
  {
   "cell_type": "code",
   "execution_count": 19,
   "id": "7fd5bc23",
   "metadata": {},
   "outputs": [
    {
     "data": {
      "application/vnd.jupyter.widget-view+json": {
       "model_id": "c95a0c3298d04474852e42c6909408e6",
       "version_major": 2,
       "version_minor": 0
      },
      "text/plain": [
       "interactive(children=(Dropdown(description='column', options=('age', 'area_percentage', 'height_percentage'), …"
      ]
     },
     "metadata": {},
     "output_type": "display_data"
    }
   ],
   "source": [
    "def hist_plot(column, bins):\n",
    "    return sns.histplot(df[column], bins = bins)\n",
    "\n",
    "interactive(hist_plot, column = widgets.Dropdown(options = numerical_columns[4:]), bins = widgets.SelectionSlider(options = np.arange(10,100,10)))\n",
    "                                                "
   ]
  },
  {
   "cell_type": "markdown",
   "id": "f3ed6ca0",
   "metadata": {},
   "source": [
    "All three distributions are left skewed with potential outliers that could fluctuate the model's performance. \n",
    "\n",
    "Let's use describe function to get an idea of the quantiles."
   ]
  },
  {
   "cell_type": "code",
   "execution_count": 20,
   "id": "7995f215",
   "metadata": {},
   "outputs": [
    {
     "data": {
      "text/html": [
       "<div>\n",
       "<style scoped>\n",
       "    .dataframe tbody tr th:only-of-type {\n",
       "        vertical-align: middle;\n",
       "    }\n",
       "\n",
       "    .dataframe tbody tr th {\n",
       "        vertical-align: top;\n",
       "    }\n",
       "\n",
       "    .dataframe thead th {\n",
       "        text-align: right;\n",
       "    }\n",
       "</style>\n",
       "<table border=\"1\" class=\"dataframe\">\n",
       "  <thead>\n",
       "    <tr style=\"text-align: right;\">\n",
       "      <th></th>\n",
       "      <th>age</th>\n",
       "      <th>area_percentage</th>\n",
       "      <th>height_percentage</th>\n",
       "    </tr>\n",
       "  </thead>\n",
       "  <tbody>\n",
       "    <tr>\n",
       "      <th>count</th>\n",
       "      <td>260601.000000</td>\n",
       "      <td>260601.000000</td>\n",
       "      <td>260601.000000</td>\n",
       "    </tr>\n",
       "    <tr>\n",
       "      <th>mean</th>\n",
       "      <td>26.535029</td>\n",
       "      <td>8.018051</td>\n",
       "      <td>5.434365</td>\n",
       "    </tr>\n",
       "    <tr>\n",
       "      <th>std</th>\n",
       "      <td>73.565937</td>\n",
       "      <td>4.392231</td>\n",
       "      <td>1.918418</td>\n",
       "    </tr>\n",
       "    <tr>\n",
       "      <th>min</th>\n",
       "      <td>0.000000</td>\n",
       "      <td>1.000000</td>\n",
       "      <td>2.000000</td>\n",
       "    </tr>\n",
       "    <tr>\n",
       "      <th>25%</th>\n",
       "      <td>10.000000</td>\n",
       "      <td>5.000000</td>\n",
       "      <td>4.000000</td>\n",
       "    </tr>\n",
       "    <tr>\n",
       "      <th>50%</th>\n",
       "      <td>15.000000</td>\n",
       "      <td>7.000000</td>\n",
       "      <td>5.000000</td>\n",
       "    </tr>\n",
       "    <tr>\n",
       "      <th>75%</th>\n",
       "      <td>30.000000</td>\n",
       "      <td>9.000000</td>\n",
       "      <td>6.000000</td>\n",
       "    </tr>\n",
       "    <tr>\n",
       "      <th>max</th>\n",
       "      <td>995.000000</td>\n",
       "      <td>100.000000</td>\n",
       "      <td>32.000000</td>\n",
       "    </tr>\n",
       "  </tbody>\n",
       "</table>\n",
       "</div>"
      ],
      "text/plain": [
       "                 age  area_percentage  height_percentage\n",
       "count  260601.000000    260601.000000      260601.000000\n",
       "mean       26.535029         8.018051           5.434365\n",
       "std        73.565937         4.392231           1.918418\n",
       "min         0.000000         1.000000           2.000000\n",
       "25%        10.000000         5.000000           4.000000\n",
       "50%        15.000000         7.000000           5.000000\n",
       "75%        30.000000         9.000000           6.000000\n",
       "max       995.000000       100.000000          32.000000"
      ]
     },
     "execution_count": 20,
     "metadata": {},
     "output_type": "execute_result"
    }
   ],
   "source": [
    "df[numerical_columns[4:]].describe()"
   ]
  },
  {
   "cell_type": "markdown",
   "id": "0c399091",
   "metadata": {},
   "source": [
    "Clearly, there is a great variance between the 75% range and the max in all three features. This would potentially fluctuate the model performane.\n",
    "\n",
    "* We should truncate the outliers to a threshold"
   ]
  },
  {
   "cell_type": "code",
   "execution_count": 21,
   "id": "df1d31fe",
   "metadata": {},
   "outputs": [
    {
     "data": {
      "text/plain": [
       "age                  45.0\n",
       "area_percentage      13.0\n",
       "height_percentage     8.0\n",
       "Name: 0.9, dtype: float64"
      ]
     },
     "execution_count": 21,
     "metadata": {},
     "output_type": "execute_result"
    }
   ],
   "source": [
    "df[numerical_columns[4:]].quantile(0.90)"
   ]
  },
  {
   "cell_type": "markdown",
   "id": "faabba29",
   "metadata": {},
   "source": [
    "Let's truncate all the values above 90% quantile to 90%."
   ]
  },
  {
   "cell_type": "code",
   "execution_count": 22,
   "id": "e5dd8b6e",
   "metadata": {},
   "outputs": [
    {
     "data": {
      "text/plain": [
       "array(['geo_level_1_id', 'land_surface_condition', 'plan_configuration',\n",
       "       'has_superstructure_adobe_mud',\n",
       "       'has_superstructure_mud_mortar_stone',\n",
       "       'has_superstructure_stone_flag',\n",
       "       'has_superstructure_cement_mortar_stone',\n",
       "       'has_superstructure_mud_mortar_brick',\n",
       "       'has_superstructure_cement_mortar_brick',\n",
       "       'has_superstructure_timber', 'has_superstructure_bamboo',\n",
       "       'has_superstructure_rc_non_engineered',\n",
       "       'has_superstructure_rc_engineered', 'has_secondary_use'],\n",
       "      dtype='<U38')"
      ]
     },
     "execution_count": 22,
     "metadata": {},
     "output_type": "execute_result"
    }
   ],
   "source": [
    "categorical_features = np.array(\n",
    "    [\"geo_level_1_id\", \"land_surface_condition\", \"plan_configuration\", \"has_superstructure_adobe_mud\",\n",
    "     \"has_superstructure_mud_mortar_stone\", \"has_superstructure_stone_flag\", \n",
    "     \"has_superstructure_cement_mortar_stone\", \"has_superstructure_mud_mortar_brick\",\n",
    "     \"has_superstructure_cement_mortar_brick\", \"has_superstructure_timber\",\n",
    "     \"has_superstructure_bamboo\", \"has_superstructure_rc_non_engineered\", \n",
    "     \"has_superstructure_rc_engineered\", \"has_secondary_use\"])\n",
    "\n",
    "categorical_features"
   ]
  },
  {
   "cell_type": "code",
   "execution_count": 23,
   "id": "6ca21267",
   "metadata": {},
   "outputs": [
    {
     "data": {
      "text/plain": [
       "array(['count_floors_pre_eq', 'age', 'area_percentage'], dtype='<U19')"
      ]
     },
     "execution_count": 23,
     "metadata": {},
     "output_type": "execute_result"
    }
   ],
   "source": [
    "numerical_features = np.array(\n",
    "    [\"count_floors_pre_eq\", \"age\", \"area_percentage\"]\n",
    ")\n",
    "\n",
    "numerical_features"
   ]
  },
  {
   "cell_type": "markdown",
   "id": "8deca82b",
   "metadata": {},
   "source": [
    "## Models\n",
    "\n",
    "Let's build a custom transformer that handles the outliers"
   ]
  },
  {
   "cell_type": "code",
   "execution_count": 24,
   "id": "1d4f22cd",
   "metadata": {},
   "outputs": [],
   "source": [
    "from sklearn.base import BaseEstimator, TransformerMixin, RegressorMixin, ClassifierMixin, clone\n",
    "from sklearn.metrics import confusion_matrix, f1_score"
   ]
  },
  {
   "cell_type": "code",
   "execution_count": 25,
   "id": "f8773476",
   "metadata": {},
   "outputs": [],
   "source": [
    "class OutlierTransformer(BaseEstimator, TransformerMixin):\n",
    "    def __init__(self, upper = 0.9):\n",
    "        self.upper = upper\n",
    "        \n",
    "    def fit(self, X, y = None):\n",
    "        if isinstance(X, pd.DataFrame):\n",
    "            self.cols_ = X.columns\n",
    "            self.limit_ = np.ones(len(self.cols_))\n",
    "            \n",
    "            for i in range(len(self.cols_)):\n",
    "                self.limit_[i] = X.iloc[:,i].quantile(self.upper)\n",
    "                \n",
    "        elif isinstance(X, pd.Series):\n",
    "            self.limit_ = X.quantile(self.upper)\n",
    "        \n",
    "        return self\n",
    "    \n",
    "    def transform(self, X):\n",
    "        X = X.copy()\n",
    "        if isinstance(X, pd.DataFrame):\n",
    "            array = np.array(X)\n",
    "            for i in range(len(self.cols_)):\n",
    "                array[:,i][array[:,i] > self.limit_[i]] = self.limit_[i]\n",
    "                \n",
    "            return array\n",
    "        \n",
    "        elif isinstance(X, pd.Series):\n",
    "            return np.array(X.apply(lambda x: self.limit_ if x > self.limit_ else x))"
   ]
  },
  {
   "cell_type": "code",
   "execution_count": 26,
   "id": "467f75cf",
   "metadata": {},
   "outputs": [
    {
     "data": {
      "text/plain": [
       "array([[802906,      6,    487, ...,     30,      6,      5],\n",
       "       [ 28830,      8,    900, ...,     10,      8,      7],\n",
       "       [ 94947,     21,    363, ...,     10,      5,      5],\n",
       "       ...,\n",
       "       [602512,     17,     51, ...,     50,      6,      7],\n",
       "       [151409,     26,     39, ...,     10,     14,      6],\n",
       "       [747594,     21,      9, ...,     10,      7,      6]], dtype=int64)"
      ]
     },
     "execution_count": 26,
     "metadata": {},
     "output_type": "execute_result"
    }
   ],
   "source": [
    "OutlierTransformer(0.92).fit_transform(df[numerical_columns])"
   ]
  },
  {
   "cell_type": "markdown",
   "id": "c1fc2bde",
   "metadata": {},
   "source": [
    "Let's define a function, that prints the score and confusion matrix of a model."
   ]
  },
  {
   "cell_type": "code",
   "execution_count": 27,
   "id": "07f9fc5b",
   "metadata": {},
   "outputs": [],
   "source": [
    "def metric(model, X, y):\n",
    "    print(\"f1-micro score: \", round(f1_score(y, model.predict(X), average = \"micro\"), 4))\n",
    "    \n",
    "    cm = confusion_matrix(y, model.predict(X))\n",
    "    cm_df = pd.DataFrame(cm, \n",
    "                         index = [\"Grade 1\", \"Grade 2\", \"Grade 3\"],\n",
    "                         columns = [\"Grade 1\", \"Grade 2\", \"Grade 3\"])\n",
    "\n",
    "    sns.heatmap(cm_df, annot = True, \n",
    "                cmap = ListedColormap([\"white\"]), \n",
    "                linewidths = 0.2, \n",
    "                linecolor = \"black\", \n",
    "                cbar = False, \n",
    "                fmt='g')\n",
    "    plt.title('Confusion Matrix')\n",
    "    plt.ylabel('Actal Values', size = 12)\n",
    "    plt.xlabel('Predicted Values', size = 12)\n",
    "    plt.show()"
   ]
  },
  {
   "cell_type": "markdown",
   "id": "ef1218e5",
   "metadata": {},
   "source": [
    "### Baseline - Naive model, that estimates the majority class"
   ]
  },
  {
   "cell_type": "code",
   "execution_count": 28,
   "id": "f590bfe5",
   "metadata": {},
   "outputs": [],
   "source": [
    "y = labels[\"damage_grade\"]"
   ]
  },
  {
   "cell_type": "code",
   "execution_count": 29,
   "id": "a93f1454",
   "metadata": {},
   "outputs": [],
   "source": [
    "class MajorityEstimator(BaseEstimator, RegressorMixin):\n",
    "    def __init__(self):\n",
    "        pass\n",
    "    \n",
    "    def fit(self, X, y):\n",
    "        self.majority_ = y.value_counts().idxmax()\n",
    "        return self\n",
    "        \n",
    "    def predict(self, X):\n",
    "        return self.majority_ * np.ones(len(X))"
   ]
  },
  {
   "cell_type": "code",
   "execution_count": 30,
   "id": "bee9cc79",
   "metadata": {},
   "outputs": [],
   "source": [
    "naive_model = MajorityEstimator().fit(X, y)"
   ]
  },
  {
   "cell_type": "code",
   "execution_count": 31,
   "id": "8800b616",
   "metadata": {},
   "outputs": [],
   "source": [
    "y_pred_naive = naive_model.predict(X)"
   ]
  },
  {
   "cell_type": "code",
   "execution_count": 32,
   "id": "86625d4c",
   "metadata": {},
   "outputs": [
    {
     "name": "stdout",
     "output_type": "stream",
     "text": [
      "f1-micro score:  0.5689\n"
     ]
    },
    {
     "data": {
      "image/png": "[encoded data removed]",
      "text/plain": [
       "<Figure size 432x288 with 1 Axes>"
      ]
     },
     "metadata": {
      "needs_background": "light"
     },
     "output_type": "display_data"
    }
   ],
   "source": [
    "metric(naive_model, X, y)"
   ]
  },
  {
   "cell_type": "markdown",
   "id": "ecbbf9bd",
   "metadata": {},
   "source": [
    "The baseline f1-micro score is 0.5689.\n",
    "\n",
    "### Logistic regression\n",
    "Let's start with a simple Logistic regression model with cross-validation and see how well it performs."
   ]
  },
  {
   "cell_type": "code",
   "execution_count": 33,
   "id": "82dc48a6",
   "metadata": {},
   "outputs": [],
   "source": [
    "from sklearn.linear_model import LogisticRegressionCV\n",
    "from sklearn.preprocessing import OneHotEncoder, StandardScaler\n",
    "from sklearn.compose import ColumnTransformer\n",
    "from sklearn.model_selection import train_test_split\n",
    "from sklearn.pipeline import Pipeline"
   ]
  },
  {
   "cell_type": "code",
   "execution_count": 34,
   "id": "67ebb06f",
   "metadata": {},
   "outputs": [],
   "source": [
    "X_train, X_test, y_train, y_test = train_test_split(X, y, test_size = 0.2, random_state = 42)"
   ]
  },
  {
   "cell_type": "code",
   "execution_count": 36,
   "id": "bca6f35b",
   "metadata": {},
   "outputs": [],
   "source": [
    "column_selector = ColumnTransformer([\n",
    "    (\"categorical\", OneHotEncoder(), categorical_features),\n",
    "    (\"numerical\", OutlierTransformer(0.9), numerical_features)\n",
    "])"
   ]
  },
  {
   "cell_type": "code",
   "execution_count": 37,
   "id": "1990ec36",
   "metadata": {},
   "outputs": [],
   "source": [
    "pipe_lr = Pipeline([\n",
    "    (\"selector\", column_selector),\n",
    "    (\"scaler\", StandardScaler(with_mean = False)),\n",
    "    (\"classifier\", LogisticRegressionCV(n_jobs = -4, random_state = 42))\n",
    "])"
   ]
  },
  {
   "cell_type": "code",
   "execution_count": 38,
   "id": "4a21e9b9",
   "metadata": {},
   "outputs": [
    {
     "ename": "KeyboardInterrupt",
     "evalue": "",
     "output_type": "error",
     "traceback": [
      "\u001b[1;31m---------------------------------------------------------------------------\u001b[0m",
      "\u001b[1;31mKeyboardInterrupt\u001b[0m                         Traceback (most recent call last)",
      "\u001b[1;32m~\\AppData\\Local\\Temp/ipykernel_27452/3136767045.py\u001b[0m in \u001b[0;36m<module>\u001b[1;34m\u001b[0m\n\u001b[1;32m----> 1\u001b[1;33m \u001b[0mlr_model\u001b[0m \u001b[1;33m=\u001b[0m \u001b[0mpipe_lr\u001b[0m\u001b[1;33m.\u001b[0m\u001b[0mfit\u001b[0m\u001b[1;33m(\u001b[0m\u001b[0mX_train\u001b[0m\u001b[1;33m,\u001b[0m \u001b[0my_train\u001b[0m\u001b[1;33m)\u001b[0m\u001b[1;33m\u001b[0m\u001b[1;33m\u001b[0m\u001b[0m\n\u001b[0m",
      "\u001b[1;32m~\\anaconda3\\lib\\site-packages\\sklearn\\pipeline.py\u001b[0m in \u001b[0;36mfit\u001b[1;34m(self, X, y, **fit_params)\u001b[0m\n\u001b[0;32m    344\u001b[0m             \u001b[1;32mif\u001b[0m \u001b[0mself\u001b[0m\u001b[1;33m.\u001b[0m\u001b[0m_final_estimator\u001b[0m \u001b[1;33m!=\u001b[0m \u001b[1;34m'passthrough'\u001b[0m\u001b[1;33m:\u001b[0m\u001b[1;33m\u001b[0m\u001b[1;33m\u001b[0m\u001b[0m\n\u001b[0;32m    345\u001b[0m                 \u001b[0mfit_params_last_step\u001b[0m \u001b[1;33m=\u001b[0m \u001b[0mfit_params_steps\u001b[0m\u001b[1;33m[\u001b[0m\u001b[0mself\u001b[0m\u001b[1;33m.\u001b[0m\u001b[0msteps\u001b[0m\u001b[1;33m[\u001b[0m\u001b[1;33m-\u001b[0m\u001b[1;36m1\u001b[0m\u001b[1;33m]\u001b[0m\u001b[1;33m[\u001b[0m\u001b[1;36m0\u001b[0m\u001b[1;33m]\u001b[0m\u001b[1;33m]\u001b[0m\u001b[1;33m\u001b[0m\u001b[1;33m\u001b[0m\u001b[0m\n\u001b[1;32m--> 346\u001b[1;33m                 \u001b[0mself\u001b[0m\u001b[1;33m.\u001b[0m\u001b[0m_final_estimator\u001b[0m\u001b[1;33m.\u001b[0m\u001b[0mfit\u001b[0m\u001b[1;33m(\u001b[0m\u001b[0mXt\u001b[0m\u001b[1;33m,\u001b[0m \u001b[0my\u001b[0m\u001b[1;33m,\u001b[0m \u001b[1;33m**\u001b[0m\u001b[0mfit_params_last_step\u001b[0m\u001b[1;33m)\u001b[0m\u001b[1;33m\u001b[0m\u001b[1;33m\u001b[0m\u001b[0m\n\u001b[0m\u001b[0;32m    347\u001b[0m \u001b[1;33m\u001b[0m\u001b[0m\n\u001b[0;32m    348\u001b[0m         \u001b[1;32mreturn\u001b[0m \u001b[0mself\u001b[0m\u001b[1;33m\u001b[0m\u001b[1;33m\u001b[0m\u001b[0m\n",
      "\u001b[1;32m~\\anaconda3\\lib\\site-packages\\sklearn\\linear_model\\_logistic.py\u001b[0m in \u001b[0;36mfit\u001b[1;34m(self, X, y, sample_weight)\u001b[0m\n\u001b[0;32m   1885\u001b[0m             \u001b[0mprefer\u001b[0m \u001b[1;33m=\u001b[0m \u001b[1;34m'processes'\u001b[0m\u001b[1;33m\u001b[0m\u001b[1;33m\u001b[0m\u001b[0m\n\u001b[0;32m   1886\u001b[0m \u001b[1;33m\u001b[0m\u001b[0m\n\u001b[1;32m-> 1887\u001b[1;33m         fold_coefs_ = Parallel(n_jobs=self.n_jobs, verbose=self.verbose,\n\u001b[0m\u001b[0;32m   1888\u001b[0m                                \u001b[1;33m**\u001b[0m\u001b[0m_joblib_parallel_args\u001b[0m\u001b[1;33m(\u001b[0m\u001b[0mprefer\u001b[0m\u001b[1;33m=\u001b[0m\u001b[0mprefer\u001b[0m\u001b[1;33m)\u001b[0m\u001b[1;33m)\u001b[0m\u001b[1;33m(\u001b[0m\u001b[1;33m\u001b[0m\u001b[1;33m\u001b[0m\u001b[0m\n\u001b[0;32m   1889\u001b[0m             path_func(X, y, train, test, pos_class=label, Cs=self.Cs,\n",
      "\u001b[1;32m~\\anaconda3\\lib\\site-packages\\joblib\\parallel.py\u001b[0m in \u001b[0;36m__call__\u001b[1;34m(self, iterable)\u001b[0m\n\u001b[0;32m   1054\u001b[0m \u001b[1;33m\u001b[0m\u001b[0m\n\u001b[0;32m   1055\u001b[0m             \u001b[1;32mwith\u001b[0m \u001b[0mself\u001b[0m\u001b[1;33m.\u001b[0m\u001b[0m_backend\u001b[0m\u001b[1;33m.\u001b[0m\u001b[0mretrieval_context\u001b[0m\u001b[1;33m(\u001b[0m\u001b[1;33m)\u001b[0m\u001b[1;33m:\u001b[0m\u001b[1;33m\u001b[0m\u001b[1;33m\u001b[0m\u001b[0m\n\u001b[1;32m-> 1056\u001b[1;33m                 \u001b[0mself\u001b[0m\u001b[1;33m.\u001b[0m\u001b[0mretrieve\u001b[0m\u001b[1;33m(\u001b[0m\u001b[1;33m)\u001b[0m\u001b[1;33m\u001b[0m\u001b[1;33m\u001b[0m\u001b[0m\n\u001b[0m\u001b[0;32m   1057\u001b[0m             \u001b[1;31m# Make sure that we get a last message telling us we are done\u001b[0m\u001b[1;33m\u001b[0m\u001b[1;33m\u001b[0m\u001b[0m\n\u001b[0;32m   1058\u001b[0m             \u001b[0melapsed_time\u001b[0m \u001b[1;33m=\u001b[0m \u001b[0mtime\u001b[0m\u001b[1;33m.\u001b[0m\u001b[0mtime\u001b[0m\u001b[1;33m(\u001b[0m\u001b[1;33m)\u001b[0m \u001b[1;33m-\u001b[0m \u001b[0mself\u001b[0m\u001b[1;33m.\u001b[0m\u001b[0m_start_time\u001b[0m\u001b[1;33m\u001b[0m\u001b[1;33m\u001b[0m\u001b[0m\n",
      "\u001b[1;32m~\\anaconda3\\lib\\site-packages\\joblib\\parallel.py\u001b[0m in \u001b[0;36mretrieve\u001b[1;34m(self)\u001b[0m\n\u001b[0;32m    933\u001b[0m             \u001b[1;32mtry\u001b[0m\u001b[1;33m:\u001b[0m\u001b[1;33m\u001b[0m\u001b[1;33m\u001b[0m\u001b[0m\n\u001b[0;32m    934\u001b[0m                 \u001b[1;32mif\u001b[0m \u001b[0mgetattr\u001b[0m\u001b[1;33m(\u001b[0m\u001b[0mself\u001b[0m\u001b[1;33m.\u001b[0m\u001b[0m_backend\u001b[0m\u001b[1;33m,\u001b[0m \u001b[1;34m'supports_timeout'\u001b[0m\u001b[1;33m,\u001b[0m \u001b[1;32mFalse\u001b[0m\u001b[1;33m)\u001b[0m\u001b[1;33m:\u001b[0m\u001b[1;33m\u001b[0m\u001b[1;33m\u001b[0m\u001b[0m\n\u001b[1;32m--> 935\u001b[1;33m                     \u001b[0mself\u001b[0m\u001b[1;33m.\u001b[0m\u001b[0m_output\u001b[0m\u001b[1;33m.\u001b[0m\u001b[0mextend\u001b[0m\u001b[1;33m(\u001b[0m\u001b[0mjob\u001b[0m\u001b[1;33m.\u001b[0m\u001b[0mget\u001b[0m\u001b[1;33m(\u001b[0m\u001b[0mtimeout\u001b[0m\u001b[1;33m=\u001b[0m\u001b[0mself\u001b[0m\u001b[1;33m.\u001b[0m\u001b[0mtimeout\u001b[0m\u001b[1;33m)\u001b[0m\u001b[1;33m)\u001b[0m\u001b[1;33m\u001b[0m\u001b[1;33m\u001b[0m\u001b[0m\n\u001b[0m\u001b[0;32m    936\u001b[0m                 \u001b[1;32melse\u001b[0m\u001b[1;33m:\u001b[0m\u001b[1;33m\u001b[0m\u001b[1;33m\u001b[0m\u001b[0m\n\u001b[0;32m    937\u001b[0m                     \u001b[0mself\u001b[0m\u001b[1;33m.\u001b[0m\u001b[0m_output\u001b[0m\u001b[1;33m.\u001b[0m\u001b[0mextend\u001b[0m\u001b[1;33m(\u001b[0m\u001b[0mjob\u001b[0m\u001b[1;33m.\u001b[0m\u001b[0mget\u001b[0m\u001b[1;33m(\u001b[0m\u001b[1;33m)\u001b[0m\u001b[1;33m)\u001b[0m\u001b[1;33m\u001b[0m\u001b[1;33m\u001b[0m\u001b[0m\n",
      "\u001b[1;32m~\\anaconda3\\lib\\site-packages\\joblib\\_parallel_backends.py\u001b[0m in \u001b[0;36mwrap_future_result\u001b[1;34m(future, timeout)\u001b[0m\n\u001b[0;32m    540\u001b[0m         AsyncResults.get from multiprocessing.\"\"\"\n\u001b[0;32m    541\u001b[0m         \u001b[1;32mtry\u001b[0m\u001b[1;33m:\u001b[0m\u001b[1;33m\u001b[0m\u001b[1;33m\u001b[0m\u001b[0m\n\u001b[1;32m--> 542\u001b[1;33m             \u001b[1;32mreturn\u001b[0m \u001b[0mfuture\u001b[0m\u001b[1;33m.\u001b[0m\u001b[0mresult\u001b[0m\u001b[1;33m(\u001b[0m\u001b[0mtimeout\u001b[0m\u001b[1;33m=\u001b[0m\u001b[0mtimeout\u001b[0m\u001b[1;33m)\u001b[0m\u001b[1;33m\u001b[0m\u001b[1;33m\u001b[0m\u001b[0m\n\u001b[0m\u001b[0;32m    543\u001b[0m         \u001b[1;32mexcept\u001b[0m \u001b[0mCfTimeoutError\u001b[0m \u001b[1;32mas\u001b[0m \u001b[0me\u001b[0m\u001b[1;33m:\u001b[0m\u001b[1;33m\u001b[0m\u001b[1;33m\u001b[0m\u001b[0m\n\u001b[0;32m    544\u001b[0m             \u001b[1;32mraise\u001b[0m \u001b[0mTimeoutError\u001b[0m \u001b[1;32mfrom\u001b[0m \u001b[0me\u001b[0m\u001b[1;33m\u001b[0m\u001b[1;33m\u001b[0m\u001b[0m\n",
      "\u001b[1;32m~\\anaconda3\\lib\\concurrent\\futures\\_base.py\u001b[0m in \u001b[0;36mresult\u001b[1;34m(self, timeout)\u001b[0m\n\u001b[0;32m    438\u001b[0m                     \u001b[1;32mreturn\u001b[0m \u001b[0mself\u001b[0m\u001b[1;33m.\u001b[0m\u001b[0m__get_result\u001b[0m\u001b[1;33m(\u001b[0m\u001b[1;33m)\u001b[0m\u001b[1;33m\u001b[0m\u001b[1;33m\u001b[0m\u001b[0m\n\u001b[0;32m    439\u001b[0m \u001b[1;33m\u001b[0m\u001b[0m\n\u001b[1;32m--> 440\u001b[1;33m                 \u001b[0mself\u001b[0m\u001b[1;33m.\u001b[0m\u001b[0m_condition\u001b[0m\u001b[1;33m.\u001b[0m\u001b[0mwait\u001b[0m\u001b[1;33m(\u001b[0m\u001b[0mtimeout\u001b[0m\u001b[1;33m)\u001b[0m\u001b[1;33m\u001b[0m\u001b[1;33m\u001b[0m\u001b[0m\n\u001b[0m\u001b[0;32m    441\u001b[0m \u001b[1;33m\u001b[0m\u001b[0m\n\u001b[0;32m    442\u001b[0m                 \u001b[1;32mif\u001b[0m \u001b[0mself\u001b[0m\u001b[1;33m.\u001b[0m\u001b[0m_state\u001b[0m \u001b[1;32min\u001b[0m \u001b[1;33m[\u001b[0m\u001b[0mCANCELLED\u001b[0m\u001b[1;33m,\u001b[0m \u001b[0mCANCELLED_AND_NOTIFIED\u001b[0m\u001b[1;33m]\u001b[0m\u001b[1;33m:\u001b[0m\u001b[1;33m\u001b[0m\u001b[1;33m\u001b[0m\u001b[0m\n",
      "\u001b[1;32m~\\anaconda3\\lib\\threading.py\u001b[0m in \u001b[0;36mwait\u001b[1;34m(self, timeout)\u001b[0m\n\u001b[0;32m    310\u001b[0m         \u001b[1;32mtry\u001b[0m\u001b[1;33m:\u001b[0m    \u001b[1;31m# restore state no matter what (e.g., KeyboardInterrupt)\u001b[0m\u001b[1;33m\u001b[0m\u001b[1;33m\u001b[0m\u001b[0m\n\u001b[0;32m    311\u001b[0m             \u001b[1;32mif\u001b[0m \u001b[0mtimeout\u001b[0m \u001b[1;32mis\u001b[0m \u001b[1;32mNone\u001b[0m\u001b[1;33m:\u001b[0m\u001b[1;33m\u001b[0m\u001b[1;33m\u001b[0m\u001b[0m\n\u001b[1;32m--> 312\u001b[1;33m                 \u001b[0mwaiter\u001b[0m\u001b[1;33m.\u001b[0m\u001b[0macquire\u001b[0m\u001b[1;33m(\u001b[0m\u001b[1;33m)\u001b[0m\u001b[1;33m\u001b[0m\u001b[1;33m\u001b[0m\u001b[0m\n\u001b[0m\u001b[0;32m    313\u001b[0m                 \u001b[0mgotit\u001b[0m \u001b[1;33m=\u001b[0m \u001b[1;32mTrue\u001b[0m\u001b[1;33m\u001b[0m\u001b[1;33m\u001b[0m\u001b[0m\n\u001b[0;32m    314\u001b[0m             \u001b[1;32melse\u001b[0m\u001b[1;33m:\u001b[0m\u001b[1;33m\u001b[0m\u001b[1;33m\u001b[0m\u001b[0m\n",
      "\u001b[1;31mKeyboardInterrupt\u001b[0m: "
     ]
    }
   ],
   "source": [
    "lr_model = pipe_lr.fit(X_train, y_train)"
   ]
  },
  {
   "cell_type": "markdown",
   "id": "e1452a4b",
   "metadata": {},
   "source": [
    "##### Metrics"
   ]
  },
  {
   "cell_type": "code",
   "execution_count": 237,
   "id": "8bd0500f",
   "metadata": {},
   "outputs": [
    {
     "name": "stdout",
     "output_type": "stream",
     "text": [
      "f1-micro score:  0.6662\n"
     ]
    },
    {
     "data": {
      "image/png": "[encoded data removed]",
      "text/plain": [
       "<Figure size 432x288 with 1 Axes>"
      ]
     },
     "metadata": {
      "needs_background": "light"
     },
     "output_type": "display_data"
    }
   ],
   "source": [
    "metric(lr_model, X_train, y_train)"
   ]
  },
  {
   "cell_type": "markdown",
   "id": "e084ac5f",
   "metadata": {},
   "source": [
    "Our initial model seems to have performed pretty well comparing to the naive model. Let's see how well it generalizes the test features."
   ]
  },
  {
   "cell_type": "code",
   "execution_count": 238,
   "id": "9cc415ee",
   "metadata": {},
   "outputs": [
    {
     "name": "stdout",
     "output_type": "stream",
     "text": [
      "f1-micro score:  0.6661\n"
     ]
    },
    {
     "data": {
      "image/png": "[encoded data removed]",
      "text/plain": [
       "<Figure size 432x288 with 1 Axes>"
      ]
     },
     "metadata": {
      "needs_background": "light"
     },
     "output_type": "display_data"
    }
   ],
   "source": [
    "metric(lr_model, X_test, y_test)"
   ]
  },
  {
   "cell_type": "markdown",
   "id": "e96aa841",
   "metadata": {},
   "source": [
    "The model is definitely not overfitting. The train and test scores are almost the same.\n",
    "\n",
    "Now, let's try grouping by the geo_level_1_id and train a seperate model for each level_1_id and see if it improves the performance.\n",
    "\n",
    "We will define a custom classifier to do this classification."
   ]
  },
  {
   "cell_type": "code",
   "execution_count": 35,
   "id": "18630d98",
   "metadata": {},
   "outputs": [],
   "source": [
    "class GroupByEstimator(BaseEstimator, ClassifierMixin):\n",
    "    def __init__(self, model_base, group):\n",
    "        self.model_base = model_base\n",
    "        self.group = group\n",
    "        \n",
    "    def fit(self, X, y):\n",
    "        self.models_ = {}\n",
    "        \n",
    "        for field, df in X.groupby(self.group):\n",
    "            self.models_[field] = clone(self.model_base).fit(df, y.loc[df.index])\n",
    "     \n",
    "        return self\n",
    "    \n",
    "    def predict(self, X):\n",
    "        y_pred = pd.Series(0, index = X.index)\n",
    "        \n",
    "        for field, df in X.groupby(self.group):\n",
    "            y_pred.loc[df.index] = self.models_[field].predict(df)\n",
    "            \n",
    "        return y_pred"
   ]
  },
  {
   "cell_type": "code",
   "execution_count": 40,
   "id": "97446c54",
   "metadata": {},
   "outputs": [],
   "source": [
    "categorical_features_groupby_geo1 = categorical_features[1:]"
   ]
  },
  {
   "cell_type": "code",
   "execution_count": 41,
   "id": "af05ce16",
   "metadata": {},
   "outputs": [],
   "source": [
    "column_selector_groupby_lr = ColumnTransformer([\n",
    "    (\"categorical\", OneHotEncoder(handle_unknown = \"ignore\"), categorical_features_groupby_geo1),\n",
    "    (\"numerical\", OutlierTransformer(0.9), numerical_features)\n",
    "])"
   ]
  },
  {
   "cell_type": "code",
   "execution_count": 253,
   "id": "b39fe748",
   "metadata": {},
   "outputs": [],
   "source": [
    "pipe_groupby_lr = Pipeline([\n",
    "    (\"selector\", column_selector_groupby_lr),\n",
    "    (\"scaler\", StandardScaler(with_mean = False)),\n",
    "    (\"classifier\", LogisticRegressionCV(n_jobs = -4, random_state = 42, max_iter=5000))\n",
    "])"
   ]
  },
  {
   "cell_type": "code",
   "execution_count": 254,
   "id": "6b4feea5",
   "metadata": {},
   "outputs": [],
   "source": [
    "group_by_model_lr = GroupByEstimator(pipe_groupby_lr, \"geo_level_1_id\").fit(X_train, y_train)"
   ]
  },
  {
   "cell_type": "code",
   "execution_count": 255,
   "id": "4475f936",
   "metadata": {},
   "outputs": [
    {
     "name": "stdout",
     "output_type": "stream",
     "text": [
      "f1-micro score:  0.6767\n"
     ]
    },
    {
     "data": {
      "image/png": "[encoded data removed]",
      "text/plain": [
       "<Figure size 432x288 with 1 Axes>"
      ]
     },
     "metadata": {
      "needs_background": "light"
     },
     "output_type": "display_data"
    }
   ],
   "source": [
    "metric(group_by_model_lr, X_train, y_train)"
   ]
  },
  {
   "cell_type": "code",
   "execution_count": 256,
   "id": "62c541e6",
   "metadata": {},
   "outputs": [
    {
     "name": "stdout",
     "output_type": "stream",
     "text": [
      "f1-micro score:  0.6728\n"
     ]
    },
    {
     "data": {
      "image/png": "[encoded data removed]",
      "text/plain": [
       "<Figure size 432x288 with 1 Axes>"
      ]
     },
     "metadata": {
      "needs_background": "light"
     },
     "output_type": "display_data"
    }
   ],
   "source": [
    "metric(group_by_model_lr, X_test, y_test)"
   ]
  },
  {
   "cell_type": "markdown",
   "id": "37263250",
   "metadata": {},
   "source": [
    "About one percent increase in the score when we use the groupby approach.\n",
    "\n",
    "Let's train seperate models based upon the land surface condition and see how well it performs."
   ]
  },
  {
   "cell_type": "code",
   "execution_count": 42,
   "id": "131ef8bf",
   "metadata": {},
   "outputs": [
    {
     "data": {
      "text/plain": [
       "array(['geo_level_1_id', 'plan_configuration',\n",
       "       'has_superstructure_adobe_mud',\n",
       "       'has_superstructure_mud_mortar_stone',\n",
       "       'has_superstructure_stone_flag',\n",
       "       'has_superstructure_cement_mortar_stone',\n",
       "       'has_superstructure_mud_mortar_brick',\n",
       "       'has_superstructure_cement_mortar_brick',\n",
       "       'has_superstructure_timber', 'has_superstructure_bamboo',\n",
       "       'has_superstructure_rc_non_engineered',\n",
       "       'has_superstructure_rc_engineered', 'has_secondary_use'],\n",
       "      dtype='<U38')"
      ]
     },
     "execution_count": 42,
     "metadata": {},
     "output_type": "execute_result"
    }
   ],
   "source": [
    "categorical_features_groupby_surf = np.delete(categorical_features, 1)\n",
    "categorical_features_groupby_surf"
   ]
  },
  {
   "cell_type": "code",
   "execution_count": 43,
   "id": "b355b740",
   "metadata": {},
   "outputs": [],
   "source": [
    "column_selector_groupby_surf_lr = ColumnTransformer([\n",
    "    (\"categorical\", OneHotEncoder(handle_unknown = \"ignore\"), categorical_features_groupby_surf),\n",
    "    (\"numerical\", OutlierTransformer(0.9), numerical_features)\n",
    "])"
   ]
  },
  {
   "cell_type": "code",
   "execution_count": 44,
   "id": "5c169dc2",
   "metadata": {},
   "outputs": [],
   "source": [
    "pipe_groupby_surf_lr = Pipeline([\n",
    "    (\"selector\", column_selector_groupby_surf_lr),\n",
    "    (\"scaler\", StandardScaler(with_mean = False)),\n",
    "    (\"classifier\", LogisticRegressionCV(n_jobs = -4, random_state = 42, max_iter=5000))\n",
    "])"
   ]
  },
  {
   "cell_type": "code",
   "execution_count": 46,
   "id": "f2319585",
   "metadata": {},
   "outputs": [
    {
     "ename": "NameError",
     "evalue": "name 'group_by_model_surf_lr' is not defined",
     "output_type": "error",
     "traceback": [
      "\u001b[1;31m---------------------------------------------------------------------------\u001b[0m",
      "\u001b[1;31mNameError\u001b[0m                                 Traceback (most recent call last)",
      "\u001b[1;32m~\\AppData\\Local\\Temp/ipykernel_27452/2959080790.py\u001b[0m in \u001b[0;36m<module>\u001b[1;34m\u001b[0m\n\u001b[1;32m----> 1\u001b[1;33m \u001b[0mmetric\u001b[0m\u001b[1;33m(\u001b[0m\u001b[0mgroup_by_model_surf_lr\u001b[0m\u001b[1;33m,\u001b[0m \u001b[0mX_train\u001b[0m\u001b[1;33m,\u001b[0m \u001b[0my_train\u001b[0m\u001b[1;33m)\u001b[0m\u001b[1;33m\u001b[0m\u001b[1;33m\u001b[0m\u001b[0m\n\u001b[0m",
      "\u001b[1;31mNameError\u001b[0m: name 'group_by_model_surf_lr' is not defined"
     ]
    }
   ],
   "source": [
    "metric(group_by_model_surf_lr, X_train, y_train)"
   ]
  },
  {
   "cell_type": "code",
   "execution_count": 47,
   "id": "64b523b7",
   "metadata": {},
   "outputs": [
    {
     "ename": "NameError",
     "evalue": "name 'group_by_model_surf_lr' is not defined",
     "output_type": "error",
     "traceback": [
      "\u001b[1;31m---------------------------------------------------------------------------\u001b[0m",
      "\u001b[1;31mNameError\u001b[0m                                 Traceback (most recent call last)",
      "\u001b[1;32m~\\AppData\\Local\\Temp/ipykernel_27452/4264970579.py\u001b[0m in \u001b[0;36m<module>\u001b[1;34m\u001b[0m\n\u001b[1;32m----> 1\u001b[1;33m \u001b[0mmetric\u001b[0m\u001b[1;33m(\u001b[0m\u001b[0mgroup_by_model_surf_lr\u001b[0m\u001b[1;33m,\u001b[0m \u001b[0mX_test\u001b[0m\u001b[1;33m,\u001b[0m \u001b[0my_test\u001b[0m\u001b[1;33m)\u001b[0m\u001b[1;33m\u001b[0m\u001b[1;33m\u001b[0m\u001b[0m\n\u001b[0m",
      "\u001b[1;31mNameError\u001b[0m: name 'group_by_model_surf_lr' is not defined"
     ]
    }
   ],
   "source": [
    "metric(group_by_model_surf_lr, X_test, y_test)"
   ]
  },
  {
   "cell_type": "markdown",
   "id": "6f6cdc99",
   "metadata": {},
   "source": [
    "The model is not performing better. Let's move to more complicated models.\n",
    "\n",
    "###  Random Forest Classifier"
   ]
  },
  {
   "cell_type": "code",
   "execution_count": 40,
   "id": "6f19e976",
   "metadata": {},
   "outputs": [],
   "source": [
    "from sklearn.ensemble import RandomForestClassifier\n",
    "from sklearn.model_selection import GridSearchCV, RandomizedSearchCV"
   ]
  },
  {
   "cell_type": "markdown",
   "id": "489b5d62",
   "metadata": {},
   "source": [
    "We'll use all the features provided in the dataset and do a k-fold search to find the optimal features to be used. Let's also do a k-fold search for the maximum depth."
   ]
  },
  {
   "cell_type": "code",
   "execution_count": 52,
   "id": "b5a3ec5f",
   "metadata": {},
   "outputs": [],
   "source": [
    "column_selector_rf = ColumnTransformer([\n",
    "    (\"categorical\", OneHotEncoder(handle_unknown = \"ignore\"), categorical_columns[:-1]),\n",
    "    (\"numerical\", OutlierTransformer(), numerical_columns)\n",
    "])"
   ]
  },
  {
   "cell_type": "code",
   "execution_count": 53,
   "id": "2b1493c5",
   "metadata": {},
   "outputs": [],
   "source": [
    "pipe_rf = Pipeline([\n",
    "    (\"selector\", column_selector_rf),\n",
    "    (\"scaler\", StandardScaler(with_mean = False)),\n",
    "    (\"classifier\", RandomForestClassifier(random_state = 42, n_estimators = 50))\n",
    "])"
   ]
  },
  {
   "cell_type": "code",
   "execution_count": 77,
   "id": "b3ba1e8b",
   "metadata": {},
   "outputs": [],
   "source": [
    "param_grid = {\"selector__numerical__upper\": np.linspace(0.9, 1, 10),\n",
    "              \"classifier__max_depth\" : np.arange(6, 21), \n",
    "              \"classifier__max_features\" : np.arange(28, 40)}\n",
    "\n",
    "grid_search_rf = RandomizedSearchCV(pipe_rf, param_grid, cv = 5, scoring = \"f1_micro\", n_iter = 30, verbose = 1)"
   ]
  },
  {
   "cell_type": "code",
   "execution_count": 78,
   "id": "1dd2836f",
   "metadata": {},
   "outputs": [
    {
     "name": "stdout",
     "output_type": "stream",
     "text": [
      "Fitting 5 folds for each of 30 candidates, totalling 150 fits\n"
     ]
    }
   ],
   "source": [
    "model_rf = grid_search_rf.fit(X_train, y_train)"
   ]
  },
  {
   "cell_type": "code",
   "execution_count": 79,
   "id": "adaa6e35",
   "metadata": {},
   "outputs": [
    {
     "data": {
      "text/plain": [
       "{'selector__numerical__upper': 0.9,\n",
       " 'classifier__max_features': 37,\n",
       " 'classifier__max_depth': 20}"
      ]
     },
     "execution_count": 79,
     "metadata": {},
     "output_type": "execute_result"
    }
   ],
   "source": [
    "model_rf.best_params_"
   ]
  },
  {
   "cell_type": "code",
   "execution_count": 80,
   "id": "69215f1d",
   "metadata": {},
   "outputs": [
    {
     "name": "stdout",
     "output_type": "stream",
     "text": [
      "f1-micro score:  0.8703\n"
     ]
    },
    {
     "data": {
      "image/png": "[encoded data removed]",
      "text/plain": [
       "<Figure size 432x288 with 1 Axes>"
      ]
     },
     "metadata": {
      "needs_background": "light"
     },
     "output_type": "display_data"
    }
   ],
   "source": [
    "metric(model_rf, X_train, y_train)"
   ]
  },
  {
   "cell_type": "code",
   "execution_count": 81,
   "id": "cca1caa0",
   "metadata": {},
   "outputs": [
    {
     "name": "stdout",
     "output_type": "stream",
     "text": [
      "f1-micro score:  0.7252\n"
     ]
    },
    {
     "data": {
      "image/png": "[encoded data removed]",
      "text/plain": [
       "<Figure size 432x288 with 1 Axes>"
      ]
     },
     "metadata": {
      "needs_background": "light"
     },
     "output_type": "display_data"
    }
   ],
   "source": [
    "metric(model_rf, X_test, y_test)"
   ]
  },
  {
   "cell_type": "markdown",
   "id": "fa2ea79c",
   "metadata": {},
   "source": [
    "The initial RF model cannot generalize the results. However, \n",
    "\n",
    "* The train score is 86.41%\n",
    "* The test score of 72.51% is still the best of all the models till now.\n",
    "* The model performance can definitely be improved to reduce the variance."
   ]
  },
  {
   "cell_type": "markdown",
   "id": "16b22fad",
   "metadata": {},
   "source": [
    "#### Save the trained model with pickle"
   ]
  },
  {
   "cell_type": "code",
   "execution_count": 82,
   "id": "91706f34",
   "metadata": {},
   "outputs": [
    {
     "ename": "PicklingError",
     "evalue": "Can't pickle <class '__main__.OutlierTransformer'>: it's not the same object as __main__.OutlierTransformer",
     "output_type": "error",
     "traceback": [
      "\u001b[1;31m---------------------------------------------------------------------------\u001b[0m",
      "\u001b[1;31mPicklingError\u001b[0m                             Traceback (most recent call last)",
      "\u001b[1;32m~\\AppData\\Local\\Temp/ipykernel_27452/2914424335.py\u001b[0m in \u001b[0;36m<module>\u001b[1;34m\u001b[0m\n\u001b[0;32m      1\u001b[0m \u001b[1;32mimport\u001b[0m \u001b[0mpickle\u001b[0m\u001b[1;33m\u001b[0m\u001b[1;33m\u001b[0m\u001b[0m\n\u001b[0;32m      2\u001b[0m \u001b[1;33m\u001b[0m\u001b[0m\n\u001b[1;32m----> 3\u001b[1;33m \u001b[0mpickle\u001b[0m\u001b[1;33m.\u001b[0m\u001b[0mdump\u001b[0m\u001b[1;33m(\u001b[0m\u001b[0mmodel_rf\u001b[0m\u001b[1;33m,\u001b[0m \u001b[0mopen\u001b[0m\u001b[1;33m(\u001b[0m\u001b[1;34m\"randomforestmodel.mod\"\u001b[0m\u001b[1;33m,\u001b[0m \u001b[1;34m\"wb\"\u001b[0m\u001b[1;33m)\u001b[0m\u001b[1;33m)\u001b[0m\u001b[1;33m\u001b[0m\u001b[1;33m\u001b[0m\u001b[0m\n\u001b[0m",
      "\u001b[1;31mPicklingError\u001b[0m: Can't pickle <class '__main__.OutlierTransformer'>: it's not the same object as __main__.OutlierTransformer"
     ]
    }
   ],
   "source": [
    "import pickle\n",
    "\n",
    "pickle.dump(model_rf, open(\"randomforestmodel.mod\", \"wb\"))"
   ]
  },
  {
   "cell_type": "code",
   "execution_count": 83,
   "id": "dd507d1c",
   "metadata": {},
   "outputs": [
    {
     "ename": "EOFError",
     "evalue": "Ran out of input",
     "output_type": "error",
     "traceback": [
      "\u001b[1;31m---------------------------------------------------------------------------\u001b[0m",
      "\u001b[1;31mEOFError\u001b[0m                                  Traceback (most recent call last)",
      "\u001b[1;32m~\\AppData\\Local\\Temp/ipykernel_27452/2495483191.py\u001b[0m in \u001b[0;36m<module>\u001b[1;34m\u001b[0m\n\u001b[1;32m----> 1\u001b[1;33m \u001b[0mmodel_rf\u001b[0m \u001b[1;33m=\u001b[0m \u001b[0mpickle\u001b[0m\u001b[1;33m.\u001b[0m\u001b[0mload\u001b[0m\u001b[1;33m(\u001b[0m\u001b[0mopen\u001b[0m\u001b[1;33m(\u001b[0m\u001b[1;34m\"randomforestmodel.mod\"\u001b[0m\u001b[1;33m,\u001b[0m \u001b[1;34m\"rb\"\u001b[0m\u001b[1;33m)\u001b[0m\u001b[1;33m)\u001b[0m\u001b[1;33m\u001b[0m\u001b[1;33m\u001b[0m\u001b[0m\n\u001b[0m",
      "\u001b[1;31mEOFError\u001b[0m: Ran out of input"
     ]
    }
   ],
   "source": [
    "model_rf = pickle.load(open(\"randomforestmodel.mod\", \"rb\"))"
   ]
  },
  {
   "cell_type": "code",
   "execution_count": 84,
   "id": "37286d7d",
   "metadata": {},
   "outputs": [
    {
     "name": "stdout",
     "output_type": "stream",
     "text": [
      "f1-micro score:  0.7252\n"
     ]
    },
    {
     "data": {
      "image/png": "[encoded data removed]",
      "text/plain": [
       "<Figure size 432x288 with 1 Axes>"
      ]
     },
     "metadata": {
      "needs_background": "light"
     },
     "output_type": "display_data"
    }
   ],
   "source": [
    "metric(model_rf, X_test, y_test)"
   ]
  },
  {
   "cell_type": "markdown",
   "id": "b8a9db9b",
   "metadata": {},
   "source": [
    "#### Submission\n",
    "Let's do a submission and see how well the model performs on the submission dataset."
   ]
  },
  {
   "cell_type": "code",
   "execution_count": 55,
   "id": "db8b90c3",
   "metadata": {},
   "outputs": [],
   "source": [
    "submission_format = pd.read_csv(\"submission_format.csv\")"
   ]
  },
  {
   "cell_type": "code",
   "execution_count": 56,
   "id": "394cd1b2",
   "metadata": {},
   "outputs": [],
   "source": [
    "X_test_competition = pd.read_csv(\"test_values.csv\")"
   ]
  },
  {
   "cell_type": "code",
   "execution_count": 57,
   "id": "bf833b24",
   "metadata": {},
   "outputs": [],
   "source": [
    "submission_format[\"damage_grade\"] = model_rf.predict(X_test_competition)"
   ]
  },
  {
   "cell_type": "code",
   "execution_count": 58,
   "id": "f2eba4b6",
   "metadata": {},
   "outputs": [],
   "source": [
    "submission_format.to_csv(\"y_test_random_forest.csv\", index = False)"
   ]
  },
  {
   "cell_type": "markdown",
   "id": "4fdb725d",
   "metadata": {},
   "source": [
    "### Submission score"
   ]
  },
  {
   "attachments": {
    "drivendata%20rank.PNG": {
     "image/png": "[encoded data removed]"
    }
   },
   "cell_type": "markdown",
   "id": "c051ba7b",
   "metadata": {},
   "source": [
    "![drivendata%20rank.PNG](attachment:drivendata%20rank.PNG)"
   ]
  },
  {
   "cell_type": "markdown",
   "id": "5df6620f",
   "metadata": {},
   "source": [
    "### Model - RF analysis"
   ]
  },
  {
   "cell_type": "code",
   "execution_count": 277,
   "id": "b871dea8",
   "metadata": {},
   "outputs": [
    {
     "data": {
      "text/plain": [
       "RandomizedSearchCV(cv=5,\n",
       "                   estimator=RandomForestClassifier(n_estimators=50,\n",
       "                                                    random_state=42),\n",
       "                   n_iter=20,\n",
       "                   param_distributions={'max_depth': array([ 6,  7,  8,  9, 10, 11, 12, 13, 14, 15, 16, 17, 18, 19, 20]),\n",
       "                                        'max_features': array([28, 29, 30, 31, 32, 33, 34, 35, 36, 37, 38, 39])},\n",
       "                   scoring='r2')"
      ]
     },
     "execution_count": 277,
     "metadata": {},
     "output_type": "execute_result"
    }
   ],
   "source": [
    "model_rf[-1]"
   ]
  },
  {
   "cell_type": "code",
   "execution_count": 278,
   "id": "bc85cae3",
   "metadata": {},
   "outputs": [
    {
     "data": {
      "text/plain": [
       "{'max_features': 28, 'max_depth': 20}"
      ]
     },
     "execution_count": 278,
     "metadata": {},
     "output_type": "execute_result"
    }
   ],
   "source": [
    "model_rf[-1].best_params_"
   ]
  },
  {
   "cell_type": "code",
   "execution_count": 279,
   "id": "5f42853f",
   "metadata": {
    "scrolled": false
   },
   "outputs": [
    {
     "data": {
      "text/html": [
       "<div>\n",
       "<style scoped>\n",
       "    .dataframe tbody tr th:only-of-type {\n",
       "        vertical-align: middle;\n",
       "    }\n",
       "\n",
       "    .dataframe tbody tr th {\n",
       "        vertical-align: top;\n",
       "    }\n",
       "\n",
       "    .dataframe thead th {\n",
       "        text-align: right;\n",
       "    }\n",
       "</style>\n",
       "<table border=\"1\" class=\"dataframe\">\n",
       "  <thead>\n",
       "    <tr style=\"text-align: right;\">\n",
       "      <th></th>\n",
       "      <th>mean_fit_time</th>\n",
       "      <th>std_fit_time</th>\n",
       "      <th>mean_score_time</th>\n",
       "      <th>std_score_time</th>\n",
       "      <th>param_max_features</th>\n",
       "      <th>param_max_depth</th>\n",
       "      <th>split0_test_score</th>\n",
       "      <th>split1_test_score</th>\n",
       "      <th>split2_test_score</th>\n",
       "      <th>split3_test_score</th>\n",
       "      <th>split4_test_score</th>\n",
       "      <th>mean_test_score</th>\n",
       "      <th>std_test_score</th>\n",
       "    </tr>\n",
       "    <tr>\n",
       "      <th>rank_test_score</th>\n",
       "      <th></th>\n",
       "      <th></th>\n",
       "      <th></th>\n",
       "      <th></th>\n",
       "      <th></th>\n",
       "      <th></th>\n",
       "      <th></th>\n",
       "      <th></th>\n",
       "      <th></th>\n",
       "      <th></th>\n",
       "      <th></th>\n",
       "      <th></th>\n",
       "      <th></th>\n",
       "    </tr>\n",
       "  </thead>\n",
       "  <tbody>\n",
       "    <tr>\n",
       "      <th>1</th>\n",
       "      <td>21.635751</td>\n",
       "      <td>0.076927</td>\n",
       "      <td>0.320911</td>\n",
       "      <td>2.252024e-03</td>\n",
       "      <td>28</td>\n",
       "      <td>20</td>\n",
       "      <td>0.208552</td>\n",
       "      <td>0.217918</td>\n",
       "      <td>0.217174</td>\n",
       "      <td>0.208049</td>\n",
       "      <td>0.222378</td>\n",
       "      <td>0.214814</td>\n",
       "      <td>0.005611</td>\n",
       "    </tr>\n",
       "    <tr>\n",
       "      <th>2</th>\n",
       "      <td>23.810353</td>\n",
       "      <td>0.124672</td>\n",
       "      <td>0.266000</td>\n",
       "      <td>2.000022e-03</td>\n",
       "      <td>34</td>\n",
       "      <td>17</td>\n",
       "      <td>0.205982</td>\n",
       "      <td>0.218561</td>\n",
       "      <td>0.213061</td>\n",
       "      <td>0.211583</td>\n",
       "      <td>0.213190</td>\n",
       "      <td>0.212475</td>\n",
       "      <td>0.004021</td>\n",
       "    </tr>\n",
       "    <tr>\n",
       "      <th>3</th>\n",
       "      <td>27.532650</td>\n",
       "      <td>0.069548</td>\n",
       "      <td>0.249707</td>\n",
       "      <td>2.268111e-03</td>\n",
       "      <td>39</td>\n",
       "      <td>16</td>\n",
       "      <td>0.199941</td>\n",
       "      <td>0.215991</td>\n",
       "      <td>0.210684</td>\n",
       "      <td>0.202780</td>\n",
       "      <td>0.206957</td>\n",
       "      <td>0.207271</td>\n",
       "      <td>0.005686</td>\n",
       "    </tr>\n",
       "    <tr>\n",
       "      <th>4</th>\n",
       "      <td>25.024850</td>\n",
       "      <td>0.097574</td>\n",
       "      <td>0.243800</td>\n",
       "      <td>7.476656e-04</td>\n",
       "      <td>37</td>\n",
       "      <td>16</td>\n",
       "      <td>0.205147</td>\n",
       "      <td>0.210529</td>\n",
       "      <td>0.209463</td>\n",
       "      <td>0.203487</td>\n",
       "      <td>0.206957</td>\n",
       "      <td>0.207116</td>\n",
       "      <td>0.002616</td>\n",
       "    </tr>\n",
       "    <tr>\n",
       "      <th>5</th>\n",
       "      <td>26.544326</td>\n",
       "      <td>0.108584</td>\n",
       "      <td>0.227200</td>\n",
       "      <td>1.166327e-03</td>\n",
       "      <td>39</td>\n",
       "      <td>15</td>\n",
       "      <td>0.187860</td>\n",
       "      <td>0.202689</td>\n",
       "      <td>0.199825</td>\n",
       "      <td>0.187744</td>\n",
       "      <td>0.200017</td>\n",
       "      <td>0.195627</td>\n",
       "      <td>0.006469</td>\n",
       "    </tr>\n",
       "    <tr>\n",
       "      <th>6</th>\n",
       "      <td>24.301232</td>\n",
       "      <td>0.111714</td>\n",
       "      <td>0.225200</td>\n",
       "      <td>1.165836e-03</td>\n",
       "      <td>37</td>\n",
       "      <td>15</td>\n",
       "      <td>0.187989</td>\n",
       "      <td>0.199155</td>\n",
       "      <td>0.197768</td>\n",
       "      <td>0.189094</td>\n",
       "      <td>0.188323</td>\n",
       "      <td>0.192466</td>\n",
       "      <td>0.004928</td>\n",
       "    </tr>\n",
       "    <tr>\n",
       "      <th>7</th>\n",
       "      <td>20.237911</td>\n",
       "      <td>0.156701</td>\n",
       "      <td>0.203000</td>\n",
       "      <td>1.672743e-03</td>\n",
       "      <td>31</td>\n",
       "      <td>14</td>\n",
       "      <td>0.165818</td>\n",
       "      <td>0.179878</td>\n",
       "      <td>0.168147</td>\n",
       "      <td>0.166797</td>\n",
       "      <td>0.165705</td>\n",
       "      <td>0.169269</td>\n",
       "      <td>0.005376</td>\n",
       "    </tr>\n",
       "    <tr>\n",
       "      <th>8</th>\n",
       "      <td>20.098907</td>\n",
       "      <td>0.053356</td>\n",
       "      <td>0.184200</td>\n",
       "      <td>7.483027e-04</td>\n",
       "      <td>32</td>\n",
       "      <td>13</td>\n",
       "      <td>0.154894</td>\n",
       "      <td>0.158480</td>\n",
       "      <td>0.163392</td>\n",
       "      <td>0.151247</td>\n",
       "      <td>0.147135</td>\n",
       "      <td>0.155030</td>\n",
       "      <td>0.005630</td>\n",
       "    </tr>\n",
       "    <tr>\n",
       "      <th>9</th>\n",
       "      <td>18.370112</td>\n",
       "      <td>0.140165</td>\n",
       "      <td>0.183600</td>\n",
       "      <td>1.019683e-03</td>\n",
       "      <td>29</td>\n",
       "      <td>13</td>\n",
       "      <td>0.145062</td>\n",
       "      <td>0.158865</td>\n",
       "      <td>0.153175</td>\n",
       "      <td>0.141480</td>\n",
       "      <td>0.143986</td>\n",
       "      <td>0.148514</td>\n",
       "      <td>0.006493</td>\n",
       "    </tr>\n",
       "    <tr>\n",
       "      <th>10</th>\n",
       "      <td>22.471388</td>\n",
       "      <td>0.132256</td>\n",
       "      <td>0.175000</td>\n",
       "      <td>1.413808e-03</td>\n",
       "      <td>36</td>\n",
       "      <td>12</td>\n",
       "      <td>0.137350</td>\n",
       "      <td>0.151283</td>\n",
       "      <td>0.149577</td>\n",
       "      <td>0.137497</td>\n",
       "      <td>0.137882</td>\n",
       "      <td>0.142718</td>\n",
       "      <td>0.006322</td>\n",
       "    </tr>\n",
       "    <tr>\n",
       "      <th>11</th>\n",
       "      <td>21.614073</td>\n",
       "      <td>0.111401</td>\n",
       "      <td>0.164000</td>\n",
       "      <td>2.683709e-03</td>\n",
       "      <td>36</td>\n",
       "      <td>11</td>\n",
       "      <td>0.123020</td>\n",
       "      <td>0.136375</td>\n",
       "      <td>0.129657</td>\n",
       "      <td>0.123103</td>\n",
       "      <td>0.122718</td>\n",
       "      <td>0.126975</td>\n",
       "      <td>0.005372</td>\n",
       "    </tr>\n",
       "    <tr>\n",
       "      <th>12</th>\n",
       "      <td>17.892253</td>\n",
       "      <td>0.074291</td>\n",
       "      <td>0.145532</td>\n",
       "      <td>4.523413e-04</td>\n",
       "      <td>33</td>\n",
       "      <td>10</td>\n",
       "      <td>0.104513</td>\n",
       "      <td>0.120054</td>\n",
       "      <td>0.106590</td>\n",
       "      <td>0.108260</td>\n",
       "      <td>0.102284</td>\n",
       "      <td>0.108340</td>\n",
       "      <td>0.006190</td>\n",
       "    </tr>\n",
       "    <tr>\n",
       "      <th>13</th>\n",
       "      <td>17.829204</td>\n",
       "      <td>0.093921</td>\n",
       "      <td>0.132000</td>\n",
       "      <td>5.135693e-07</td>\n",
       "      <td>35</td>\n",
       "      <td>9</td>\n",
       "      <td>0.092174</td>\n",
       "      <td>0.105660</td>\n",
       "      <td>0.094895</td>\n",
       "      <td>0.079024</td>\n",
       "      <td>0.092646</td>\n",
       "      <td>0.092880</td>\n",
       "      <td>0.008484</td>\n",
       "    </tr>\n",
       "    <tr>\n",
       "      <th>14</th>\n",
       "      <td>20.891355</td>\n",
       "      <td>0.078200</td>\n",
       "      <td>0.136400</td>\n",
       "      <td>8.002763e-04</td>\n",
       "      <td>39</td>\n",
       "      <td>9</td>\n",
       "      <td>0.078679</td>\n",
       "      <td>0.105017</td>\n",
       "      <td>0.089626</td>\n",
       "      <td>0.089755</td>\n",
       "      <td>0.090975</td>\n",
       "      <td>0.090811</td>\n",
       "      <td>0.008385</td>\n",
       "    </tr>\n",
       "    <tr>\n",
       "      <th>15</th>\n",
       "      <td>15.285070</td>\n",
       "      <td>0.204462</td>\n",
       "      <td>0.125400</td>\n",
       "      <td>2.059194e-03</td>\n",
       "      <td>29</td>\n",
       "      <td>8</td>\n",
       "      <td>0.061072</td>\n",
       "      <td>0.088053</td>\n",
       "      <td>0.068165</td>\n",
       "      <td>0.067522</td>\n",
       "      <td>0.062446</td>\n",
       "      <td>0.069452</td>\n",
       "      <td>0.009703</td>\n",
       "    </tr>\n",
       "    <tr>\n",
       "      <th>16</th>\n",
       "      <td>15.925581</td>\n",
       "      <td>0.106409</td>\n",
       "      <td>0.113401</td>\n",
       "      <td>1.496631e-03</td>\n",
       "      <td>34</td>\n",
       "      <td>7</td>\n",
       "      <td>0.054260</td>\n",
       "      <td>0.061194</td>\n",
       "      <td>0.040085</td>\n",
       "      <td>0.058462</td>\n",
       "      <td>0.064181</td>\n",
       "      <td>0.055636</td>\n",
       "      <td>0.008433</td>\n",
       "    </tr>\n",
       "    <tr>\n",
       "      <th>17</th>\n",
       "      <td>14.457862</td>\n",
       "      <td>0.038791</td>\n",
       "      <td>0.124400</td>\n",
       "      <td>3.878251e-03</td>\n",
       "      <td>28</td>\n",
       "      <td>8</td>\n",
       "      <td>0.052011</td>\n",
       "      <td>0.051748</td>\n",
       "      <td>0.070863</td>\n",
       "      <td>0.042462</td>\n",
       "      <td>0.040920</td>\n",
       "      <td>0.051601</td>\n",
       "      <td>0.010666</td>\n",
       "    </tr>\n",
       "    <tr>\n",
       "      <th>18</th>\n",
       "      <td>15.854979</td>\n",
       "      <td>0.105803</td>\n",
       "      <td>0.106607</td>\n",
       "      <td>1.361339e-03</td>\n",
       "      <td>38</td>\n",
       "      <td>6</td>\n",
       "      <td>0.039994</td>\n",
       "      <td>0.070190</td>\n",
       "      <td>0.022415</td>\n",
       "      <td>0.039699</td>\n",
       "      <td>0.027427</td>\n",
       "      <td>0.039945</td>\n",
       "      <td>0.016606</td>\n",
       "    </tr>\n",
       "    <tr>\n",
       "      <th>19</th>\n",
       "      <td>12.881675</td>\n",
       "      <td>0.135943</td>\n",
       "      <td>0.109200</td>\n",
       "      <td>7.484047e-04</td>\n",
       "      <td>28</td>\n",
       "      <td>7</td>\n",
       "      <td>-0.001712</td>\n",
       "      <td>0.061386</td>\n",
       "      <td>0.019138</td>\n",
       "      <td>0.000504</td>\n",
       "      <td>0.007829</td>\n",
       "      <td>0.017429</td>\n",
       "      <td>0.023152</td>\n",
       "    </tr>\n",
       "    <tr>\n",
       "      <th>20</th>\n",
       "      <td>11.643305</td>\n",
       "      <td>0.065941</td>\n",
       "      <td>0.101200</td>\n",
       "      <td>1.326647e-03</td>\n",
       "      <td>28</td>\n",
       "      <td>6</td>\n",
       "      <td>-0.047788</td>\n",
       "      <td>-0.023048</td>\n",
       "      <td>-0.028154</td>\n",
       "      <td>-0.045568</td>\n",
       "      <td>-0.056298</td>\n",
       "      <td>-0.040171</td>\n",
       "      <td>0.012528</td>\n",
       "    </tr>\n",
       "  </tbody>\n",
       "</table>\n",
       "</div>"
      ],
      "text/plain": [
       "                 mean_fit_time  std_fit_time  mean_score_time  std_score_time  \\\n",
       "rank_test_score                                                                 \n",
       "1                    21.635751      0.076927         0.320911    2.252024e-03   \n",
       "2                    23.810353      0.124672         0.266000    2.000022e-03   \n",
       "3                    27.532650      0.069548         0.249707    2.268111e-03   \n",
       "4                    25.024850      0.097574         0.243800    7.476656e-04   \n",
       "5                    26.544326      0.108584         0.227200    1.166327e-03   \n",
       "6                    24.301232      0.111714         0.225200    1.165836e-03   \n",
       "7                    20.237911      0.156701         0.203000    1.672743e-03   \n",
       "8                    20.098907      0.053356         0.184200    7.483027e-04   \n",
       "9                    18.370112      0.140165         0.183600    1.019683e-03   \n",
       "10                   22.471388      0.132256         0.175000    1.413808e-03   \n",
       "11                   21.614073      0.111401         0.164000    2.683709e-03   \n",
       "12                   17.892253      0.074291         0.145532    4.523413e-04   \n",
       "13                   17.829204      0.093921         0.132000    5.135693e-07   \n",
       "14                   20.891355      0.078200         0.136400    8.002763e-04   \n",
       "15                   15.285070      0.204462         0.125400    2.059194e-03   \n",
       "16                   15.925581      0.106409         0.113401    1.496631e-03   \n",
       "17                   14.457862      0.038791         0.124400    3.878251e-03   \n",
       "18                   15.854979      0.105803         0.106607    1.361339e-03   \n",
       "19                   12.881675      0.135943         0.109200    7.484047e-04   \n",
       "20                   11.643305      0.065941         0.101200    1.326647e-03   \n",
       "\n",
       "                param_max_features param_max_depth  split0_test_score  \\\n",
       "rank_test_score                                                         \n",
       "1                               28              20           0.208552   \n",
       "2                               34              17           0.205982   \n",
       "3                               39              16           0.199941   \n",
       "4                               37              16           0.205147   \n",
       "5                               39              15           0.187860   \n",
       "6                               37              15           0.187989   \n",
       "7                               31              14           0.165818   \n",
       "8                               32              13           0.154894   \n",
       "9                               29              13           0.145062   \n",
       "10                              36              12           0.137350   \n",
       "11                              36              11           0.123020   \n",
       "12                              33              10           0.104513   \n",
       "13                              35               9           0.092174   \n",
       "14                              39               9           0.078679   \n",
       "15                              29               8           0.061072   \n",
       "16                              34               7           0.054260   \n",
       "17                              28               8           0.052011   \n",
       "18                              38               6           0.039994   \n",
       "19                              28               7          -0.001712   \n",
       "20                              28               6          -0.047788   \n",
       "\n",
       "                 split1_test_score  split2_test_score  split3_test_score  \\\n",
       "rank_test_score                                                            \n",
       "1                         0.217918           0.217174           0.208049   \n",
       "2                         0.218561           0.213061           0.211583   \n",
       "3                         0.215991           0.210684           0.202780   \n",
       "4                         0.210529           0.209463           0.203487   \n",
       "5                         0.202689           0.199825           0.187744   \n",
       "6                         0.199155           0.197768           0.189094   \n",
       "7                         0.179878           0.168147           0.166797   \n",
       "8                         0.158480           0.163392           0.151247   \n",
       "9                         0.158865           0.153175           0.141480   \n",
       "10                        0.151283           0.149577           0.137497   \n",
       "11                        0.136375           0.129657           0.123103   \n",
       "12                        0.120054           0.106590           0.108260   \n",
       "13                        0.105660           0.094895           0.079024   \n",
       "14                        0.105017           0.089626           0.089755   \n",
       "15                        0.088053           0.068165           0.067522   \n",
       "16                        0.061194           0.040085           0.058462   \n",
       "17                        0.051748           0.070863           0.042462   \n",
       "18                        0.070190           0.022415           0.039699   \n",
       "19                        0.061386           0.019138           0.000504   \n",
       "20                       -0.023048          -0.028154          -0.045568   \n",
       "\n",
       "                 split4_test_score  mean_test_score  std_test_score  \n",
       "rank_test_score                                                      \n",
       "1                         0.222378         0.214814        0.005611  \n",
       "2                         0.213190         0.212475        0.004021  \n",
       "3                         0.206957         0.207271        0.005686  \n",
       "4                         0.206957         0.207116        0.002616  \n",
       "5                         0.200017         0.195627        0.006469  \n",
       "6                         0.188323         0.192466        0.004928  \n",
       "7                         0.165705         0.169269        0.005376  \n",
       "8                         0.147135         0.155030        0.005630  \n",
       "9                         0.143986         0.148514        0.006493  \n",
       "10                        0.137882         0.142718        0.006322  \n",
       "11                        0.122718         0.126975        0.005372  \n",
       "12                        0.102284         0.108340        0.006190  \n",
       "13                        0.092646         0.092880        0.008484  \n",
       "14                        0.090975         0.090811        0.008385  \n",
       "15                        0.062446         0.069452        0.009703  \n",
       "16                        0.064181         0.055636        0.008433  \n",
       "17                        0.040920         0.051601        0.010666  \n",
       "18                        0.027427         0.039945        0.016606  \n",
       "19                        0.007829         0.017429        0.023152  \n",
       "20                       -0.056298        -0.040171        0.012528  "
      ]
     },
     "execution_count": 279,
     "metadata": {},
     "output_type": "execute_result"
    }
   ],
   "source": [
    "model_rf_cv_results = (pd.DataFrame(model_rf[-1].cv_results_)\n",
    "                       .drop([\"params\"], axis = 1)\n",
    "                       .sort_values(\"rank_test_score\")\n",
    "                       .set_index(\"rank_test_score\"))\n",
    "\n",
    "model_rf_cv_results"
   ]
  },
  {
   "cell_type": "markdown",
   "id": "60f67d85",
   "metadata": {},
   "source": [
    "* Max features of 38 helps in better score.\n",
    "* Max depth can still be increased.\n",
    "* We can use \"min_sample_split\" hyper-parameter to control the variance.\n",
    "\n",
    "We shall train various models by tuning the max_depth and min_sample_split, store the y_test scores and plot a graph"
   ]
  },
  {
   "cell_type": "code",
   "execution_count": 227,
   "id": "7da67b51",
   "metadata": {},
   "outputs": [],
   "source": [
    "train_result = {}\n",
    "test_result = {}\n",
    "\n",
    "for depth in np.arange(20, 38, 2):\n",
    "    for split in np.arange(10, 32, 2):\n",
    "        pipe_rf = Pipeline([\n",
    "            (\"selector\", column_selector_rf),\n",
    "            (\"scaler\", StandardScaler(with_mean = False)),\n",
    "            (\"classifier\", RandomForestClassifier(max_features=38, \n",
    "                                                  max_depth=depth, \n",
    "                                                  min_samples_split=split, \n",
    "                                                  random_state=42))\n",
    "        ])\n",
    "        \n",
    "        model_rf_loop = pipe_rf.fit(X_train, y_train)\n",
    "        \n",
    "        train_result[(depth, split)] = f1_score(y_train, model_rf_loop.predict(X_train), average = \"micro\")\n",
    "        test_result[(depth, split)] = f1_score(y_test, model_rf_loop.predict(X_test), average = \"micro\")"
   ]
  },
  {
   "cell_type": "code",
   "execution_count": 249,
   "id": "82c62e89",
   "metadata": {},
   "outputs": [],
   "source": [
    "results = (pd.Series(train_result)\n",
    "           .to_frame(name = \"train\")\n",
    "           .assign(test = test_result)\n",
    "           .reset_index())\n",
    "\n",
    "pickle.dump(results, open(\"DecisionTreeSearch.pd\", \"wb\"))"
   ]
  },
  {
   "cell_type": "code",
   "execution_count": 65,
   "id": "383d97d0",
   "metadata": {},
   "outputs": [],
   "source": [
    "results = pickle.load(open(\"DecisionTreeSearch.pd\", \"rb\"))"
   ]
  },
  {
   "cell_type": "code",
   "execution_count": 66,
   "id": "63ce05ae",
   "metadata": {},
   "outputs": [],
   "source": [
    "from ipywidgets import widgets, interactive"
   ]
  },
  {
   "cell_type": "code",
   "execution_count": 67,
   "id": "5576eba9",
   "metadata": {},
   "outputs": [],
   "source": [
    "max_depth = widgets.Dropdown(options = results[\"level_0\"].unique())\n",
    "score = widgets.Dropdown(options = [\"train\", \"test\"])"
   ]
  },
  {
   "cell_type": "code",
   "execution_count": 68,
   "id": "e4422980",
   "metadata": {},
   "outputs": [],
   "source": [
    "def plotit(max_depth, score):\n",
    "    res = results[results[\"level_0\"] == max_depth]\n",
    "    plt.plot(res[\"level_1\"], res[score])\n",
    "    plt.show();"
   ]
  },
  {
   "cell_type": "code",
   "execution_count": 69,
   "id": "811fb5ca",
   "metadata": {
    "scrolled": true
   },
   "outputs": [
    {
     "data": {
      "application/vnd.jupyter.widget-view+json": {
       "model_id": "00920dac863c4794b991f6ff3233aca7",
       "version_major": 2,
       "version_minor": 0
      },
      "text/plain": [
       "interactive(children=(Dropdown(description='max_depth', options=(20, 22, 24, 26, 28, 30, 32, 34, 36), value=20…"
      ]
     },
     "metadata": {},
     "output_type": "display_data"
    }
   ],
   "source": [
    "interactive(plotit, max_depth = max_depth, score = score)"
   ]
  },
  {
   "cell_type": "code",
   "execution_count": 87,
   "id": "873cb895",
   "metadata": {},
   "outputs": [
    {
     "data": {
      "text/plain": [
       "0.7356919475835076"
      ]
     },
     "execution_count": 87,
     "metadata": {},
     "output_type": "execute_result"
    }
   ],
   "source": [
    "results[\"test\"].max()"
   ]
  },
  {
   "cell_type": "code",
   "execution_count": 85,
   "id": "759c595c",
   "metadata": {},
   "outputs": [
    {
     "data": {
      "text/plain": [
       "level_0    32.000000\n",
       "level_1    14.000000\n",
       "train       0.882603\n",
       "test        0.735692\n",
       "Name: 68, dtype: float64"
      ]
     },
     "execution_count": 85,
     "metadata": {},
     "output_type": "execute_result"
    }
   ],
   "source": [
    "results.iloc[results[\"test\"].idxmax()]"
   ]
  },
  {
   "cell_type": "code",
   "execution_count": 88,
   "id": "20b4679b",
   "metadata": {},
   "outputs": [],
   "source": [
    "pipe_rf_best = Pipeline([\n",
    "                (\"selector\", column_selector_rf),\n",
    "                (\"scaler\", StandardScaler(with_mean = False)),\n",
    "                (\"classifier\", RandomForestClassifier(max_features=38, \n",
    "                                                      max_depth=32, \n",
    "                                                      min_samples_split=14, \n",
    "                                                      random_state=42))])"
   ]
  },
  {
   "cell_type": "code",
   "execution_count": 89,
   "id": "8b959e90",
   "metadata": {},
   "outputs": [],
   "source": [
    "model_rf_best = pipe_rf_best.fit(X_train, y_train)"
   ]
  },
  {
   "cell_type": "code",
   "execution_count": 90,
   "id": "52d300c9",
   "metadata": {},
   "outputs": [
    {
     "name": "stdout",
     "output_type": "stream",
     "text": [
      "f1-micro score:  0.7357\n"
     ]
    },
    {
     "data": {
      "image/png": "[encoded data removed]",
      "text/plain": [
       "<Figure size 432x288 with 1 Axes>"
      ]
     },
     "metadata": {
      "needs_background": "light"
     },
     "output_type": "display_data"
    }
   ],
   "source": [
    "metric(model_rf_best, X_test, y_test)"
   ]
  },
  {
   "cell_type": "code",
   "execution_count": 91,
   "id": "5a77c67c",
   "metadata": {},
   "outputs": [],
   "source": [
    "submission_format = pd.read_csv(\"submission_format.csv\")"
   ]
  },
  {
   "cell_type": "code",
   "execution_count": 92,
   "id": "c3fdeb94",
   "metadata": {},
   "outputs": [],
   "source": [
    "X_test_competition = pd.read_csv(\"test_values.csv\")"
   ]
  },
  {
   "cell_type": "code",
   "execution_count": 93,
   "id": "027234b7",
   "metadata": {},
   "outputs": [],
   "source": [
    "submission_format[\"damage_grade\"] = model_rf_best.predict(X_test_competition)"
   ]
  },
  {
   "cell_type": "code",
   "execution_count": 94,
   "id": "211250c7",
   "metadata": {},
   "outputs": [],
   "source": [
    "submission_format.to_csv(\"dt_optimal_3.csv\", index = False)"
   ]
  },
  {
   "cell_type": "markdown",
   "id": "fb44a8b2",
   "metadata": {},
   "source": [
    "#### Gradient boosting "
   ]
  },
  {
   "cell_type": "code",
   "execution_count": 68,
   "id": "b246289d",
   "metadata": {},
   "outputs": [],
   "source": [
    "from sklearn.ensemble import GradientBoostingClassifier"
   ]
  },
  {
   "cell_type": "code",
   "execution_count": 69,
   "id": "59560e15",
   "metadata": {},
   "outputs": [],
   "source": [
    "column_selector_gb = ColumnTransformer([\n",
    "    (\"categorical\", OneHotEncoder(handle_unknown = \"ignore\"), categorical_columns[:-1]),\n",
    "    (\"numerical\", OutlierTransformer(), numerical_columns)\n",
    "])"
   ]
  },
  {
   "cell_type": "code",
   "execution_count": 70,
   "id": "c07563a9",
   "metadata": {},
   "outputs": [],
   "source": [
    "pipe_gb = Pipeline([\n",
    "    (\"selector\", column_selector_gb),\n",
    "    (\"scaler\", StandardScaler(with_mean = False)),\n",
    "    (\"classifier\", GradientBoostingClassifier(n_estimators = 20, random_state = 42))\n",
    "])"
   ]
  },
  {
   "cell_type": "code",
   "execution_count": 76,
   "id": "5e0c1ee6",
   "metadata": {},
   "outputs": [],
   "source": [
    "param_grid = {\"selector__numerical__upper\": np.linspace(0.8, 1, 20),\n",
    "              \"classifier__max_depth\": range(2,20), \n",
    "              \"classifier__min_samples_split\": range(2,100,2), \n",
    "              \"classifier__min_samples_leaf\": range(2,100,2), \n",
    "              \"classifier__max_features\" : range(30,39)}\n",
    "\n",
    "random_search_gb = RandomizedSearchCV(pipe_gb, param_grid, cv = 3, verbose = 1, random_state = 42, n_iter = 200)"
   ]
  },
  {
   "cell_type": "code",
   "execution_count": 77,
   "id": "e369ef63",
   "metadata": {},
   "outputs": [
    {
     "name": "stdout",
     "output_type": "stream",
     "text": [
      "Fitting 3 folds for each of 200 candidates, totalling 600 fits\n"
     ]
    }
   ],
   "source": [
    "model_gb = random_search_gb.fit(X_train, y_train)"
   ]
  },
  {
   "cell_type": "code",
   "execution_count": 78,
   "id": "b91d4cc2",
   "metadata": {},
   "outputs": [
    {
     "name": "stdout",
     "output_type": "stream",
     "text": [
      "f1-micro score:  0.8265\n"
     ]
    },
    {
     "data": {
      "image/png": "[encoded data removed]",
      "text/plain": [
       "<Figure size 432x288 with 1 Axes>"
      ]
     },
     "metadata": {
      "needs_background": "light"
     },
     "output_type": "display_data"
    }
   ],
   "source": [
    "metric(model_gb, X_train, y_train)"
   ]
  },
  {
   "cell_type": "code",
   "execution_count": 79,
   "id": "bb44ad00",
   "metadata": {},
   "outputs": [
    {
     "name": "stdout",
     "output_type": "stream",
     "text": [
      "f1-micro score:  0.7315\n"
     ]
    },
    {
     "data": {
      "image/png": "[encoded data removed]",
      "text/plain": [
       "<Figure size 432x288 with 1 Axes>"
      ]
     },
     "metadata": {
      "needs_background": "light"
     },
     "output_type": "display_data"
    }
   ],
   "source": [
    "metric(model_gb, X_test, y_test)"
   ]
  },
  {
   "cell_type": "code",
   "execution_count": 80,
   "id": "aa158184",
   "metadata": {},
   "outputs": [
    {
     "data": {
      "text/plain": [
       "{'selector__numerical__upper': 0.9368421052631579,\n",
       " 'classifier__min_samples_split': 6,\n",
       " 'classifier__min_samples_leaf': 14,\n",
       " 'classifier__max_features': 34,\n",
       " 'classifier__max_depth': 19}"
      ]
     },
     "execution_count": 80,
     "metadata": {},
     "output_type": "execute_result"
    }
   ],
   "source": [
    "model_gb.best_params_"
   ]
  },
  {
   "cell_type": "code",
   "execution_count": 81,
   "id": "a771c515",
   "metadata": {},
   "outputs": [],
   "source": [
    "column_selector_gb_v2 = ColumnTransformer([\n",
    "    (\"categorical\", OneHotEncoder(handle_unknown = \"ignore\"), categorical_columns[:-1]),\n",
    "    (\"numerical\", OutlierTransformer(model_gb.best_params_[\"selector__numerical__upper\"]), numerical_columns)\n",
    "])"
   ]
  },
  {
   "cell_type": "code",
   "execution_count": 82,
   "id": "3c593672",
   "metadata": {},
   "outputs": [],
   "source": [
    "pipe_gb_v2 = Pipeline([\n",
    "    (\"selector\", column_selector_gb_v2),\n",
    "    (\"scaler\", StandardScaler(with_mean = False)),\n",
    "    (\"classifier\", GradientBoostingClassifier(min_samples_split = model_gb.best_params_[\"classifier__min_samples_split\"], \n",
    "                                              min_samples_leaf = model_gb.best_params_[\"classifier__min_samples_leaf\"], \n",
    "                                              max_features = model_gb.best_params_[\"classifier__max_features\"], \n",
    "                                              max_depth = model_gb.best_params_[\"classifier__max_depth\"],\n",
    "                                              random_state = 42))\n",
    "])"
   ]
  },
  {
   "cell_type": "code",
   "execution_count": 83,
   "id": "cd59ce99",
   "metadata": {},
   "outputs": [],
   "source": [
    "param_grid_v2 = {\"classifier__learning_rate\": np.linspace(0.01, 1, 50), \n",
    "                 \"classifier__subsample\": np.linspace(0.01, 1, 50), \n",
    "                 \"classifier__n_estimators\": np.arange(10, 110, 5)}\n",
    "\n",
    "random_search_v2 = RandomizedSearchCV(pipe_gb_v2, param_grid_v2, cv = 3, verbose = 1, n_iter = 200, random_state = 42)"
   ]
  },
  {
   "cell_type": "code",
   "execution_count": 84,
   "id": "105b1919",
   "metadata": {},
   "outputs": [
    {
     "name": "stdout",
     "output_type": "stream",
     "text": [
      "Fitting 3 folds for each of 200 candidates, totalling 600 fits\n"
     ]
    }
   ],
   "source": [
    "model_gb_v2 = random_search_v2.fit(X_train, y_train)"
   ]
  },
  {
   "cell_type": "code",
   "execution_count": 85,
   "id": "b775b2b0",
   "metadata": {},
   "outputs": [
    {
     "name": "stdout",
     "output_type": "stream",
     "text": [
      "f1-micro score:  0.9207\n"
     ]
    },
    {
     "data": {
      "image/png": "[encoded data removed]",
      "text/plain": [
       "<Figure size 432x288 with 1 Axes>"
      ]
     },
     "metadata": {
      "needs_background": "light"
     },
     "output_type": "display_data"
    }
   ],
   "source": [
    "metric(model_gb_v2, X_train, y_train)"
   ]
  },
  {
   "cell_type": "code",
   "execution_count": 86,
   "id": "62406952",
   "metadata": {},
   "outputs": [
    {
     "name": "stdout",
     "output_type": "stream",
     "text": [
      "f1-micro score:  0.7368\n"
     ]
    },
    {
     "data": {
      "image/png": "[encoded data removed]",
      "text/plain": [
       "<Figure size 432x288 with 1 Axes>"
      ]
     },
     "metadata": {
      "needs_background": "light"
     },
     "output_type": "display_data"
    }
   ],
   "source": [
    "metric(model_gb_v2, X_test, y_test)"
   ]
  },
  {
   "cell_type": "code",
   "execution_count": 91,
   "id": "81a8837a",
   "metadata": {},
   "outputs": [],
   "source": [
    "submission_format = pd.read_csv(\"submission_format.csv\")"
   ]
  },
  {
   "cell_type": "code",
   "execution_count": 88,
   "id": "a2470f5b",
   "metadata": {},
   "outputs": [],
   "source": [
    "X_test_competition = pd.read_csv(\"test_values.csv\")"
   ]
  },
  {
   "cell_type": "code",
   "execution_count": 92,
   "id": "62753d98",
   "metadata": {},
   "outputs": [],
   "source": [
    "submission_format[\"damage_grade\"] = model_gb_v2.predict(X_test_competition)"
   ]
  },
  {
   "cell_type": "code",
   "execution_count": 94,
   "id": "02dedec3",
   "metadata": {},
   "outputs": [],
   "source": [
    "submission_format.to_csv(\"submission_gb.csv\", index = False)"
   ]
  },
  {
   "cell_type": "code",
   "execution_count": 96,
   "id": "81254f0e",
   "metadata": {},
   "outputs": [],
   "source": [
    "model_gb_v2_results = pd.DataFrame(model_gb_v2.cv_results_).drop(\"params\", axis = 1).set_index(\"rank_test_score\").sort_index()"
   ]
  },
  {
   "cell_type": "code",
   "execution_count": 100,
   "id": "ec217245",
   "metadata": {},
   "outputs": [],
   "source": [
    "import pickle\n",
    "\n",
    "pickle.dump(model_gb_v2_results, open(\"model_gb_v2_results.pkl\", \"wb\"))"
   ]
  },
  {
   "cell_type": "code",
   "execution_count": 101,
   "id": "0dab6fd6",
   "metadata": {},
   "outputs": [
    {
     "data": {
      "text/html": [
       "<div>\n",
       "<style scoped>\n",
       "    .dataframe tbody tr th:only-of-type {\n",
       "        vertical-align: middle;\n",
       "    }\n",
       "\n",
       "    .dataframe tbody tr th {\n",
       "        vertical-align: top;\n",
       "    }\n",
       "\n",
       "    .dataframe thead th {\n",
       "        text-align: right;\n",
       "    }\n",
       "</style>\n",
       "<table border=\"1\" class=\"dataframe\">\n",
       "  <thead>\n",
       "    <tr style=\"text-align: right;\">\n",
       "      <th></th>\n",
       "      <th>mean_fit_time</th>\n",
       "      <th>std_fit_time</th>\n",
       "      <th>mean_score_time</th>\n",
       "      <th>std_score_time</th>\n",
       "      <th>param_classifier__subsample</th>\n",
       "      <th>param_classifier__n_estimators</th>\n",
       "      <th>param_classifier__learning_rate</th>\n",
       "      <th>split0_test_score</th>\n",
       "      <th>split1_test_score</th>\n",
       "      <th>split2_test_score</th>\n",
       "      <th>mean_test_score</th>\n",
       "      <th>std_test_score</th>\n",
       "    </tr>\n",
       "    <tr>\n",
       "      <th>rank_test_score</th>\n",
       "      <th></th>\n",
       "      <th></th>\n",
       "      <th></th>\n",
       "      <th></th>\n",
       "      <th></th>\n",
       "      <th></th>\n",
       "      <th></th>\n",
       "      <th></th>\n",
       "      <th></th>\n",
       "      <th></th>\n",
       "      <th></th>\n",
       "      <th></th>\n",
       "    </tr>\n",
       "  </thead>\n",
       "  <tbody>\n",
       "    <tr>\n",
       "      <th>1</th>\n",
       "      <td>270.955666</td>\n",
       "      <td>1.389749</td>\n",
       "      <td>1.722515</td>\n",
       "      <td>0.002272</td>\n",
       "      <td>0.878776</td>\n",
       "      <td>100</td>\n",
       "      <td>0.070612</td>\n",
       "      <td>0.729919</td>\n",
       "      <td>0.733311</td>\n",
       "      <td>0.732491</td>\n",
       "      <td>0.731907</td>\n",
       "      <td>0.001445</td>\n",
       "    </tr>\n",
       "    <tr>\n",
       "      <th>2</th>\n",
       "      <td>244.724743</td>\n",
       "      <td>1.142487</td>\n",
       "      <td>1.467392</td>\n",
       "      <td>0.005244</td>\n",
       "      <td>0.979796</td>\n",
       "      <td>80</td>\n",
       "      <td>0.070612</td>\n",
       "      <td>0.729732</td>\n",
       "      <td>0.733930</td>\n",
       "      <td>0.731757</td>\n",
       "      <td>0.731806</td>\n",
       "      <td>0.001714</td>\n",
       "    </tr>\n",
       "    <tr>\n",
       "      <th>3</th>\n",
       "      <td>238.794770</td>\n",
       "      <td>1.734881</td>\n",
       "      <td>1.651629</td>\n",
       "      <td>0.009585</td>\n",
       "      <td>0.818163</td>\n",
       "      <td>95</td>\n",
       "      <td>0.070612</td>\n",
       "      <td>0.731027</td>\n",
       "      <td>0.731599</td>\n",
       "      <td>0.732477</td>\n",
       "      <td>0.731701</td>\n",
       "      <td>0.000596</td>\n",
       "    </tr>\n",
       "    <tr>\n",
       "      <th>4</th>\n",
       "      <td>215.080602</td>\n",
       "      <td>1.443314</td>\n",
       "      <td>1.448007</td>\n",
       "      <td>0.006979</td>\n",
       "      <td>0.919184</td>\n",
       "      <td>75</td>\n",
       "      <td>0.050408</td>\n",
       "      <td>0.730264</td>\n",
       "      <td>0.731354</td>\n",
       "      <td>0.732246</td>\n",
       "      <td>0.731288</td>\n",
       "      <td>0.000810</td>\n",
       "    </tr>\n",
       "    <tr>\n",
       "      <th>5</th>\n",
       "      <td>236.412297</td>\n",
       "      <td>0.852108</td>\n",
       "      <td>1.523348</td>\n",
       "      <td>0.001699</td>\n",
       "      <td>0.959592</td>\n",
       "      <td>80</td>\n",
       "      <td>0.050408</td>\n",
       "      <td>0.729487</td>\n",
       "      <td>0.731858</td>\n",
       "      <td>0.732491</td>\n",
       "      <td>0.731279</td>\n",
       "      <td>0.001293</td>\n",
       "    </tr>\n",
       "    <tr>\n",
       "      <th>...</th>\n",
       "      <td>...</td>\n",
       "      <td>...</td>\n",
       "      <td>...</td>\n",
       "      <td>...</td>\n",
       "      <td>...</td>\n",
       "      <td>...</td>\n",
       "      <td>...</td>\n",
       "      <td>...</td>\n",
       "      <td>...</td>\n",
       "      <td>...</td>\n",
       "      <td>...</td>\n",
       "      <td>...</td>\n",
       "    </tr>\n",
       "    <tr>\n",
       "      <th>196</th>\n",
       "      <td>23.827114</td>\n",
       "      <td>0.100179</td>\n",
       "      <td>1.190995</td>\n",
       "      <td>0.002940</td>\n",
       "      <td>0.030204</td>\n",
       "      <td>95</td>\n",
       "      <td>0.515102</td>\n",
       "      <td>0.426526</td>\n",
       "      <td>0.475846</td>\n",
       "      <td>0.440778</td>\n",
       "      <td>0.447717</td>\n",
       "      <td>0.020724</td>\n",
       "    </tr>\n",
       "    <tr>\n",
       "      <th>197</th>\n",
       "      <td>14.731997</td>\n",
       "      <td>0.102837</td>\n",
       "      <td>0.976000</td>\n",
       "      <td>0.002161</td>\n",
       "      <td>0.01</td>\n",
       "      <td>95</td>\n",
       "      <td>0.333265</td>\n",
       "      <td>0.460140</td>\n",
       "      <td>0.447786</td>\n",
       "      <td>0.432130</td>\n",
       "      <td>0.446685</td>\n",
       "      <td>0.011462</td>\n",
       "    </tr>\n",
       "    <tr>\n",
       "      <th>198</th>\n",
       "      <td>34.615309</td>\n",
       "      <td>0.074827</td>\n",
       "      <td>1.414340</td>\n",
       "      <td>0.003863</td>\n",
       "      <td>0.050408</td>\n",
       "      <td>105</td>\n",
       "      <td>0.777755</td>\n",
       "      <td>0.455737</td>\n",
       "      <td>0.440548</td>\n",
       "      <td>0.443210</td>\n",
       "      <td>0.446498</td>\n",
       "      <td>0.006623</td>\n",
       "    </tr>\n",
       "    <tr>\n",
       "      <th>199</th>\n",
       "      <td>26.678806</td>\n",
       "      <td>0.014124</td>\n",
       "      <td>1.127840</td>\n",
       "      <td>0.004875</td>\n",
       "      <td>0.050408</td>\n",
       "      <td>80</td>\n",
       "      <td>0.979796</td>\n",
       "      <td>0.438657</td>\n",
       "      <td>0.453082</td>\n",
       "      <td>0.445426</td>\n",
       "      <td>0.445721</td>\n",
       "      <td>0.005893</td>\n",
       "    </tr>\n",
       "    <tr>\n",
       "      <th>200</th>\n",
       "      <td>6.366263</td>\n",
       "      <td>0.020522</td>\n",
       "      <td>0.455671</td>\n",
       "      <td>0.000466</td>\n",
       "      <td>0.030204</td>\n",
       "      <td>25</td>\n",
       "      <td>0.919184</td>\n",
       "      <td>0.434671</td>\n",
       "      <td>0.450247</td>\n",
       "      <td>0.430331</td>\n",
       "      <td>0.438416</td>\n",
       "      <td>0.008551</td>\n",
       "    </tr>\n",
       "  </tbody>\n",
       "</table>\n",
       "<p>200 rows × 12 columns</p>\n",
       "</div>"
      ],
      "text/plain": [
       "                 mean_fit_time  std_fit_time  mean_score_time  std_score_time  \\\n",
       "rank_test_score                                                                 \n",
       "1                   270.955666      1.389749         1.722515        0.002272   \n",
       "2                   244.724743      1.142487         1.467392        0.005244   \n",
       "3                   238.794770      1.734881         1.651629        0.009585   \n",
       "4                   215.080602      1.443314         1.448007        0.006979   \n",
       "5                   236.412297      0.852108         1.523348        0.001699   \n",
       "...                        ...           ...              ...             ...   \n",
       "196                  23.827114      0.100179         1.190995        0.002940   \n",
       "197                  14.731997      0.102837         0.976000        0.002161   \n",
       "198                  34.615309      0.074827         1.414340        0.003863   \n",
       "199                  26.678806      0.014124         1.127840        0.004875   \n",
       "200                   6.366263      0.020522         0.455671        0.000466   \n",
       "\n",
       "                param_classifier__subsample param_classifier__n_estimators  \\\n",
       "rank_test_score                                                              \n",
       "1                                  0.878776                            100   \n",
       "2                                  0.979796                             80   \n",
       "3                                  0.818163                             95   \n",
       "4                                  0.919184                             75   \n",
       "5                                  0.959592                             80   \n",
       "...                                     ...                            ...   \n",
       "196                                0.030204                             95   \n",
       "197                                    0.01                             95   \n",
       "198                                0.050408                            105   \n",
       "199                                0.050408                             80   \n",
       "200                                0.030204                             25   \n",
       "\n",
       "                param_classifier__learning_rate  split0_test_score  \\\n",
       "rank_test_score                                                      \n",
       "1                                      0.070612           0.729919   \n",
       "2                                      0.070612           0.729732   \n",
       "3                                      0.070612           0.731027   \n",
       "4                                      0.050408           0.730264   \n",
       "5                                      0.050408           0.729487   \n",
       "...                                         ...                ...   \n",
       "196                                    0.515102           0.426526   \n",
       "197                                    0.333265           0.460140   \n",
       "198                                    0.777755           0.455737   \n",
       "199                                    0.979796           0.438657   \n",
       "200                                    0.919184           0.434671   \n",
       "\n",
       "                 split1_test_score  split2_test_score  mean_test_score  \\\n",
       "rank_test_score                                                          \n",
       "1                         0.733311           0.732491         0.731907   \n",
       "2                         0.733930           0.731757         0.731806   \n",
       "3                         0.731599           0.732477         0.731701   \n",
       "4                         0.731354           0.732246         0.731288   \n",
       "5                         0.731858           0.732491         0.731279   \n",
       "...                            ...                ...              ...   \n",
       "196                       0.475846           0.440778         0.447717   \n",
       "197                       0.447786           0.432130         0.446685   \n",
       "198                       0.440548           0.443210         0.446498   \n",
       "199                       0.453082           0.445426         0.445721   \n",
       "200                       0.450247           0.430331         0.438416   \n",
       "\n",
       "                 std_test_score  \n",
       "rank_test_score                  \n",
       "1                      0.001445  \n",
       "2                      0.001714  \n",
       "3                      0.000596  \n",
       "4                      0.000810  \n",
       "5                      0.001293  \n",
       "...                         ...  \n",
       "196                    0.020724  \n",
       "197                    0.011462  \n",
       "198                    0.006623  \n",
       "199                    0.005893  \n",
       "200                    0.008551  \n",
       "\n",
       "[200 rows x 12 columns]"
      ]
     },
     "execution_count": 101,
     "metadata": {},
     "output_type": "execute_result"
    }
   ],
   "source": [
    "pickle.load(open(\"model_gb_v2_results.pkl\", \"rb\"))"
   ]
  },
  {
   "cell_type": "code",
   "execution_count": 105,
   "id": "a090af06",
   "metadata": {},
   "outputs": [
    {
     "data": {
      "text/html": [
       "<div>\n",
       "<style scoped>\n",
       "    .dataframe tbody tr th:only-of-type {\n",
       "        vertical-align: middle;\n",
       "    }\n",
       "\n",
       "    .dataframe tbody tr th {\n",
       "        vertical-align: top;\n",
       "    }\n",
       "\n",
       "    .dataframe thead th {\n",
       "        text-align: right;\n",
       "    }\n",
       "</style>\n",
       "<table border=\"1\" class=\"dataframe\">\n",
       "  <thead>\n",
       "    <tr style=\"text-align: right;\">\n",
       "      <th></th>\n",
       "      <th>building_id</th>\n",
       "      <th>geo_level_1_id</th>\n",
       "      <th>geo_level_2_id</th>\n",
       "      <th>geo_level_3_id</th>\n",
       "      <th>count_floors_pre_eq</th>\n",
       "      <th>age</th>\n",
       "      <th>area_percentage</th>\n",
       "      <th>height_percentage</th>\n",
       "      <th>has_superstructure_adobe_mud</th>\n",
       "      <th>has_superstructure_mud_mortar_stone</th>\n",
       "      <th>...</th>\n",
       "      <th>has_secondary_use_hotel</th>\n",
       "      <th>has_secondary_use_rental</th>\n",
       "      <th>has_secondary_use_institution</th>\n",
       "      <th>has_secondary_use_school</th>\n",
       "      <th>has_secondary_use_industry</th>\n",
       "      <th>has_secondary_use_health_post</th>\n",
       "      <th>has_secondary_use_gov_office</th>\n",
       "      <th>has_secondary_use_use_police</th>\n",
       "      <th>has_secondary_use_other</th>\n",
       "      <th>damage_grade</th>\n",
       "    </tr>\n",
       "  </thead>\n",
       "  <tbody>\n",
       "    <tr>\n",
       "      <th>count</th>\n",
       "      <td>2.512400e+04</td>\n",
       "      <td>25124.000000</td>\n",
       "      <td>25124.000000</td>\n",
       "      <td>25124.000000</td>\n",
       "      <td>25124.000000</td>\n",
       "      <td>25124.000000</td>\n",
       "      <td>25124.000000</td>\n",
       "      <td>25124.000000</td>\n",
       "      <td>25124.000000</td>\n",
       "      <td>25124.000000</td>\n",
       "      <td>...</td>\n",
       "      <td>25124.000000</td>\n",
       "      <td>25124.000000</td>\n",
       "      <td>25124.00000</td>\n",
       "      <td>25124.000000</td>\n",
       "      <td>25124.000000</td>\n",
       "      <td>25124.000000</td>\n",
       "      <td>25124.000000</td>\n",
       "      <td>25124.000000</td>\n",
       "      <td>25124.000000</td>\n",
       "      <td>25124.0</td>\n",
       "    </tr>\n",
       "    <tr>\n",
       "      <th>mean</th>\n",
       "      <td>5.271413e+05</td>\n",
       "      <td>17.318261</td>\n",
       "      <td>652.934684</td>\n",
       "      <td>6277.995582</td>\n",
       "      <td>1.841307</td>\n",
       "      <td>17.320490</td>\n",
       "      <td>9.716009</td>\n",
       "      <td>5.147349</td>\n",
       "      <td>0.023643</td>\n",
       "      <td>0.348671</td>\n",
       "      <td>...</td>\n",
       "      <td>0.088203</td>\n",
       "      <td>0.034907</td>\n",
       "      <td>0.00394</td>\n",
       "      <td>0.001194</td>\n",
       "      <td>0.002348</td>\n",
       "      <td>0.000478</td>\n",
       "      <td>0.000517</td>\n",
       "      <td>0.000159</td>\n",
       "      <td>0.006965</td>\n",
       "      <td>1.0</td>\n",
       "    </tr>\n",
       "    <tr>\n",
       "      <th>std</th>\n",
       "      <td>3.044232e+05</td>\n",
       "      <td>8.513056</td>\n",
       "      <td>439.810772</td>\n",
       "      <td>3746.827334</td>\n",
       "      <td>0.825843</td>\n",
       "      <td>83.684844</td>\n",
       "      <td>6.289094</td>\n",
       "      <td>2.511039</td>\n",
       "      <td>0.151936</td>\n",
       "      <td>0.476559</td>\n",
       "      <td>...</td>\n",
       "      <td>0.283595</td>\n",
       "      <td>0.183548</td>\n",
       "      <td>0.06265</td>\n",
       "      <td>0.034535</td>\n",
       "      <td>0.048404</td>\n",
       "      <td>0.021850</td>\n",
       "      <td>0.022742</td>\n",
       "      <td>0.012617</td>\n",
       "      <td>0.083170</td>\n",
       "      <td>0.0</td>\n",
       "    </tr>\n",
       "    <tr>\n",
       "      <th>min</th>\n",
       "      <td>2.500000e+01</td>\n",
       "      <td>0.000000</td>\n",
       "      <td>3.000000</td>\n",
       "      <td>1.000000</td>\n",
       "      <td>1.000000</td>\n",
       "      <td>0.000000</td>\n",
       "      <td>1.000000</td>\n",
       "      <td>2.000000</td>\n",
       "      <td>0.000000</td>\n",
       "      <td>0.000000</td>\n",
       "      <td>...</td>\n",
       "      <td>0.000000</td>\n",
       "      <td>0.000000</td>\n",
       "      <td>0.00000</td>\n",
       "      <td>0.000000</td>\n",
       "      <td>0.000000</td>\n",
       "      <td>0.000000</td>\n",
       "      <td>0.000000</td>\n",
       "      <td>0.000000</td>\n",
       "      <td>0.000000</td>\n",
       "      <td>1.0</td>\n",
       "    </tr>\n",
       "    <tr>\n",
       "      <th>25%</th>\n",
       "      <td>2.634778e+05</td>\n",
       "      <td>9.000000</td>\n",
       "      <td>219.000000</td>\n",
       "      <td>2902.000000</td>\n",
       "      <td>1.000000</td>\n",
       "      <td>0.000000</td>\n",
       "      <td>6.000000</td>\n",
       "      <td>3.000000</td>\n",
       "      <td>0.000000</td>\n",
       "      <td>0.000000</td>\n",
       "      <td>...</td>\n",
       "      <td>0.000000</td>\n",
       "      <td>0.000000</td>\n",
       "      <td>0.00000</td>\n",
       "      <td>0.000000</td>\n",
       "      <td>0.000000</td>\n",
       "      <td>0.000000</td>\n",
       "      <td>0.000000</td>\n",
       "      <td>0.000000</td>\n",
       "      <td>0.000000</td>\n",
       "      <td>1.0</td>\n",
       "    </tr>\n",
       "    <tr>\n",
       "      <th>50%</th>\n",
       "      <td>5.290425e+05</td>\n",
       "      <td>20.000000</td>\n",
       "      <td>661.000000</td>\n",
       "      <td>6400.000000</td>\n",
       "      <td>2.000000</td>\n",
       "      <td>5.000000</td>\n",
       "      <td>8.000000</td>\n",
       "      <td>5.000000</td>\n",
       "      <td>0.000000</td>\n",
       "      <td>0.000000</td>\n",
       "      <td>...</td>\n",
       "      <td>0.000000</td>\n",
       "      <td>0.000000</td>\n",
       "      <td>0.00000</td>\n",
       "      <td>0.000000</td>\n",
       "      <td>0.000000</td>\n",
       "      <td>0.000000</td>\n",
       "      <td>0.000000</td>\n",
       "      <td>0.000000</td>\n",
       "      <td>0.000000</td>\n",
       "      <td>1.0</td>\n",
       "    </tr>\n",
       "    <tr>\n",
       "      <th>75%</th>\n",
       "      <td>7.884928e+05</td>\n",
       "      <td>26.000000</td>\n",
       "      <td>1023.000000</td>\n",
       "      <td>9482.750000</td>\n",
       "      <td>2.000000</td>\n",
       "      <td>15.000000</td>\n",
       "      <td>12.000000</td>\n",
       "      <td>6.000000</td>\n",
       "      <td>0.000000</td>\n",
       "      <td>1.000000</td>\n",
       "      <td>...</td>\n",
       "      <td>0.000000</td>\n",
       "      <td>0.000000</td>\n",
       "      <td>0.00000</td>\n",
       "      <td>0.000000</td>\n",
       "      <td>0.000000</td>\n",
       "      <td>0.000000</td>\n",
       "      <td>0.000000</td>\n",
       "      <td>0.000000</td>\n",
       "      <td>0.000000</td>\n",
       "      <td>1.0</td>\n",
       "    </tr>\n",
       "    <tr>\n",
       "      <th>max</th>\n",
       "      <td>1.052911e+06</td>\n",
       "      <td>30.000000</td>\n",
       "      <td>1426.000000</td>\n",
       "      <td>12565.000000</td>\n",
       "      <td>9.000000</td>\n",
       "      <td>995.000000</td>\n",
       "      <td>96.000000</td>\n",
       "      <td>24.000000</td>\n",
       "      <td>1.000000</td>\n",
       "      <td>1.000000</td>\n",
       "      <td>...</td>\n",
       "      <td>1.000000</td>\n",
       "      <td>1.000000</td>\n",
       "      <td>1.00000</td>\n",
       "      <td>1.000000</td>\n",
       "      <td>1.000000</td>\n",
       "      <td>1.000000</td>\n",
       "      <td>1.000000</td>\n",
       "      <td>1.000000</td>\n",
       "      <td>1.000000</td>\n",
       "      <td>1.0</td>\n",
       "    </tr>\n",
       "  </tbody>\n",
       "</table>\n",
       "<p>8 rows × 32 columns</p>\n",
       "</div>"
      ],
      "text/plain": [
       "        building_id  geo_level_1_id  geo_level_2_id  geo_level_3_id  \\\n",
       "count  2.512400e+04    25124.000000    25124.000000    25124.000000   \n",
       "mean   5.271413e+05       17.318261      652.934684     6277.995582   \n",
       "std    3.044232e+05        8.513056      439.810772     3746.827334   \n",
       "min    2.500000e+01        0.000000        3.000000        1.000000   \n",
       "25%    2.634778e+05        9.000000      219.000000     2902.000000   \n",
       "50%    5.290425e+05       20.000000      661.000000     6400.000000   \n",
       "75%    7.884928e+05       26.000000     1023.000000     9482.750000   \n",
       "max    1.052911e+06       30.000000     1426.000000    12565.000000   \n",
       "\n",
       "       count_floors_pre_eq           age  area_percentage  height_percentage  \\\n",
       "count         25124.000000  25124.000000     25124.000000       25124.000000   \n",
       "mean              1.841307     17.320490         9.716009           5.147349   \n",
       "std               0.825843     83.684844         6.289094           2.511039   \n",
       "min               1.000000      0.000000         1.000000           2.000000   \n",
       "25%               1.000000      0.000000         6.000000           3.000000   \n",
       "50%               2.000000      5.000000         8.000000           5.000000   \n",
       "75%               2.000000     15.000000        12.000000           6.000000   \n",
       "max               9.000000    995.000000        96.000000          24.000000   \n",
       "\n",
       "       has_superstructure_adobe_mud  has_superstructure_mud_mortar_stone  ...  \\\n",
       "count                  25124.000000                         25124.000000  ...   \n",
       "mean                       0.023643                             0.348671  ...   \n",
       "std                        0.151936                             0.476559  ...   \n",
       "min                        0.000000                             0.000000  ...   \n",
       "25%                        0.000000                             0.000000  ...   \n",
       "50%                        0.000000                             0.000000  ...   \n",
       "75%                        0.000000                             1.000000  ...   \n",
       "max                        1.000000                             1.000000  ...   \n",
       "\n",
       "       has_secondary_use_hotel  has_secondary_use_rental  \\\n",
       "count             25124.000000              25124.000000   \n",
       "mean                  0.088203                  0.034907   \n",
       "std                   0.283595                  0.183548   \n",
       "min                   0.000000                  0.000000   \n",
       "25%                   0.000000                  0.000000   \n",
       "50%                   0.000000                  0.000000   \n",
       "75%                   0.000000                  0.000000   \n",
       "max                   1.000000                  1.000000   \n",
       "\n",
       "       has_secondary_use_institution  has_secondary_use_school  \\\n",
       "count                    25124.00000              25124.000000   \n",
       "mean                         0.00394                  0.001194   \n",
       "std                          0.06265                  0.034535   \n",
       "min                          0.00000                  0.000000   \n",
       "25%                          0.00000                  0.000000   \n",
       "50%                          0.00000                  0.000000   \n",
       "75%                          0.00000                  0.000000   \n",
       "max                          1.00000                  1.000000   \n",
       "\n",
       "       has_secondary_use_industry  has_secondary_use_health_post  \\\n",
       "count                25124.000000                   25124.000000   \n",
       "mean                     0.002348                       0.000478   \n",
       "std                      0.048404                       0.021850   \n",
       "min                      0.000000                       0.000000   \n",
       "25%                      0.000000                       0.000000   \n",
       "50%                      0.000000                       0.000000   \n",
       "75%                      0.000000                       0.000000   \n",
       "max                      1.000000                       1.000000   \n",
       "\n",
       "       has_secondary_use_gov_office  has_secondary_use_use_police  \\\n",
       "count                  25124.000000                  25124.000000   \n",
       "mean                       0.000517                      0.000159   \n",
       "std                        0.022742                      0.012617   \n",
       "min                        0.000000                      0.000000   \n",
       "25%                        0.000000                      0.000000   \n",
       "50%                        0.000000                      0.000000   \n",
       "75%                        0.000000                      0.000000   \n",
       "max                        1.000000                      1.000000   \n",
       "\n",
       "       has_secondary_use_other  damage_grade  \n",
       "count             25124.000000       25124.0  \n",
       "mean                  0.006965           1.0  \n",
       "std                   0.083170           0.0  \n",
       "min                   0.000000           1.0  \n",
       "25%                   0.000000           1.0  \n",
       "50%                   0.000000           1.0  \n",
       "75%                   0.000000           1.0  \n",
       "max                   1.000000           1.0  \n",
       "\n",
       "[8 rows x 32 columns]"
      ]
     },
     "execution_count": 105,
     "metadata": {},
     "output_type": "execute_result"
    }
   ],
   "source": [
    "df[df[\"damage_grade\"] == 1].describe()"
   ]
  },
  {
   "cell_type": "code",
   "execution_count": null,
   "id": "912686b3",
   "metadata": {},
   "outputs": [],
   "source": []
  }
 ],
 "metadata": {
  "hide_input": false,
  "kernelspec": {
   "display_name": "Python 3 (ipykernel)",
   "language": "python",
   "name": "python3"
  },
  "language_info": {
   "codemirror_mode": {
    "name": "ipython",
    "version": 3
   },
   "file_extension": ".py",
   "mimetype": "text/x-python",
   "name": "python",
   "nbconvert_exporter": "python",
   "pygments_lexer": "ipython3",
   "version": "3.9.13"
  },
  "toc": {
   "base_numbering": 1,
   "nav_menu": {},
   "number_sections": true,
   "sideBar": true,
   "skip_h1_title": true,
   "title_cell": "Contents",
   "title_sidebar": "Contents",
   "toc_cell": true,
   "toc_position": {},
   "toc_section_display": true,
   "toc_window_display": false
  },
  "varInspector": {
   "cols": {
    "lenName": 16,
    "lenType": 16,
    "lenVar": 40
   },
   "kernels_config": {
    "python": {
     "delete_cmd_postfix": "",
     "delete_cmd_prefix": "del ",
     "library": "var_list.py",
     "varRefreshCmd": "print(var_dic_list())"
    },
    "r": {
     "delete_cmd_postfix": ") ",
     "delete_cmd_prefix": "rm(",
     "library": "var_list.r",
     "varRefreshCmd": "cat(var_dic_list()) "
    }
   },
   "types_to_exclude": [
    "module",
    "function",
    "builtin_function_or_method",
    "instance",
    "_Feature"
   ],
   "window_display": false
  }
 },
 "nbformat": 4,
 "nbformat_minor": 5
}
